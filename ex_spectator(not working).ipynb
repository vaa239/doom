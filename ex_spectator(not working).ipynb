{
 "cells": [
  {
   "cell_type": "code",
   "execution_count": 1,
   "metadata": {
    "collapsed": true
   },
   "outputs": [],
   "source": [
    "#!/usr/bin/python\n",
    "\n",
    "#####################################################################\n",
    "# This script presents SPECTATOR mode. In SPECTATOR mode you play and\n",
    "# your agent can learn from it.\n",
    "# Configuration is loaded from \"../../examples/config/<SCENARIO_NAME>.cfg\" file.\n",
    "# \n",
    "# To see the scenario description go to \"../../scenarios/README.md\"\n",
    "# \n",
    "#####################################################################\n",
    "from __future__ import print_function\n",
    "from vizdoom import *\n",
    "from time import sleep\n",
    "\n",
    "game = DoomGame()"
   ]
  },
  {
   "cell_type": "code",
   "execution_count": 2,
   "metadata": {
    "collapsed": false
   },
   "outputs": [],
   "source": [
    "# Choose scenario config file you wish to watch.\n",
    "# Don't load two configs cause the second will overrite the first one.\n",
    "# Multiple config files are ok but combining these ones doesn't make much sense.\n",
    "\n",
    "game.load_config(\"../../examples/config/basic.cfg\")\n",
    "\n",
    "imgs = []\n",
    "actions=[]\n",
    "# game.load_config(\"../../examples/config/deadly_corridor.cfg\")\n",
    "# game.load_config(\"../../examples/config/deathmatch.cfg\")\n",
    "#game.load_config(\"../../examples/config/defend_the_center.cfg\")\n",
    "#game.load_config(\"../../examples/config/defend_the_line.cfg\")\n",
    "#game.load_config(\"../../examples/config/health_gathering.cfg\")\n",
    "#game.load_config(\"../../examples/config/my_way_home.cfg\")\n",
    "#game.load_config(\"../../examples/config/predict_position.cfg\")\n",
    "#game.load_config(\"../../examples/config/take_cover.cfg\")"
   ]
  },
  {
   "cell_type": "code",
   "execution_count": 3,
   "metadata": {
    "collapsed": true
   },
   "outputs": [],
   "source": [
    "from tempfile import mkdtemp\n",
    "import os.path as path\n",
    "filename = path.join(mkdtemp(), 'newfile.dat')"
   ]
  },
  {
   "cell_type": "code",
   "execution_count": 4,
   "metadata": {
    "collapsed": false
   },
   "outputs": [],
   "source": [
    "import numpy as np\n",
    "images = np.empty([3, 240, 320, 300])\n",
    "fp = np.memmap(filename, dtype='float32', mode='w+', shape=(3, 240, 320, 300,1000))\n",
    "ep = 0"
   ]
  },
  {
   "cell_type": "code",
   "execution_count": 5,
   "metadata": {
    "collapsed": false,
    "scrolled": true
   },
   "outputs": [
    {
     "ename": "ViZDoomErrorException",
     "evalue": "Controlled ViZDoom instance reported error.",
     "output_type": "error",
     "traceback": [
      "\u001b[1;31m---------------------------------------------------------------------------\u001b[0m",
      "\u001b[1;31mViZDoomErrorException\u001b[0m                     Traceback (most recent call last)",
      "\u001b[1;32m<ipython-input-5-bf24262d234e>\u001b[0m in \u001b[0;36m<module>\u001b[1;34m()\u001b[0m\n\u001b[0;32m      3\u001b[0m \u001b[0mgame\u001b[0m\u001b[1;33m.\u001b[0m\u001b[0mset_mode\u001b[0m\u001b[1;33m(\u001b[0m\u001b[0mMode\u001b[0m\u001b[1;33m.\u001b[0m\u001b[0mSPECTATOR\u001b[0m\u001b[1;33m)\u001b[0m\u001b[1;33m\u001b[0m\u001b[0m\n\u001b[0;32m      4\u001b[0m \u001b[1;33m\u001b[0m\u001b[0m\n\u001b[1;32m----> 5\u001b[1;33m \u001b[0mgame\u001b[0m\u001b[1;33m.\u001b[0m\u001b[0minit\u001b[0m\u001b[1;33m(\u001b[0m\u001b[1;33m)\u001b[0m\u001b[1;33m\u001b[0m\u001b[0m\n\u001b[0m\u001b[0;32m      6\u001b[0m \u001b[1;33m\u001b[0m\u001b[0m\n\u001b[0;32m      7\u001b[0m \u001b[0mepisodes\u001b[0m \u001b[1;33m=\u001b[0m \u001b[1;36m1\u001b[0m\u001b[1;33m\u001b[0m\u001b[0m\n",
      "\u001b[1;31mViZDoomErrorException\u001b[0m: Controlled ViZDoom instance reported error."
     ]
    }
   ],
   "source": [
    "# Enables spectator mode, so you can play. Sounds strange but it is agent who is supposed to watch not you.\n",
    "game.set_window_visible(True)\n",
    "game.set_mode(Mode.SPECTATOR)\n",
    "\n",
    "game.init()\n",
    "\n",
    "episodes = 1\n",
    "\n",
    "print(\"\")\n",
    "for i in range(episodes):\n",
    "    images = np.empty([3, 240, 320, 300])\n",
    "    print(\"Episode #\" +str(i+1))\n",
    "\n",
    "    game.new_episode()\n",
    "    while not game.is_episode_finished():\n",
    "\n",
    "        s = game.get_state()\n",
    "        img = s.image_buffer\n",
    "        misc = s.game_variables\n",
    "\n",
    "        game.advance_action()\n",
    "        a = game.get_last_action()\n",
    "        r = game.get_last_reward()\n",
    "        \n",
    "        \n",
    "        images[:,:,:,s.number - 1] = img \n",
    "        \n",
    "        imgs.append(img)\n",
    "        actions.append(a)\n",
    "\n",
    "        print(\"state #\"+str(s.number))\n",
    "        print(\"game variables: \", misc)\n",
    "        print(\"action:\", a)\n",
    "        print(\"reward:\",r)\n",
    "        print(\"=====================\")\n",
    "\n",
    "    print(\"episode finished!\")\n",
    "    print(\"total reward:\", game.get_total_reward())\n",
    "    print(\"************************\")\n",
    "    sleep(2.0)\n",
    "\n",
    "    ep += 1\n",
    "\n",
    "game.close()\n",
    "# fp[:,:,:,:,ep] = images"
   ]
  },
  {
   "cell_type": "code",
   "execution_count": null,
   "metadata": {
    "collapsed": false
   },
   "outputs": [],
   "source": [
    "images[:,:,:,146]"
   ]
  },
  {
   "cell_type": "code",
   "execution_count": null,
   "metadata": {
    "collapsed": false
   },
   "outputs": [],
   "source": [
    "actions[0]"
   ]
  },
  {
   "cell_type": "code",
   "execution_count": null,
   "metadata": {
    "collapsed": true
   },
   "outputs": [],
   "source": [
    "data = np.arange(12, dtype='float32')\n",
    "data.resize((3,4))"
   ]
  },
  {
   "cell_type": "code",
   "execution_count": null,
   "metadata": {
    "collapsed": false
   },
   "outputs": [],
   "source": [
    "fp = np.memmap(filename, dtype='float32', mode='w+', shape=(3, 240, 320, 300,1000))"
   ]
  },
  {
   "cell_type": "code",
   "execution_count": null,
   "metadata": {
    "collapsed": false
   },
   "outputs": [],
   "source": [
    " del fp"
   ]
  },
  {
   "cell_type": "code",
   "execution_count": null,
   "metadata": {
    "collapsed": true
   },
   "outputs": [],
   "source": []
  }
 ],
 "metadata": {
  "kernelspec": {
   "display_name": "Python 2",
   "language": "python",
   "name": "python2"
  },
  "language_info": {
   "codemirror_mode": {
    "name": "ipython",
    "version": 2
   },
   "file_extension": ".py",
   "mimetype": "text/x-python",
   "name": "python",
   "nbconvert_exporter": "python",
   "pygments_lexer": "ipython2",
   "version": "2.7.12"
  }
 },
 "nbformat": 4,
 "nbformat_minor": 0
}
