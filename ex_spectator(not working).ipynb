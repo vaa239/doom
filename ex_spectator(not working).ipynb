{
 "cells": [
  {
   "cell_type": "code",
   "execution_count": 1,
   "metadata": {
    "collapsed": true
   },
   "outputs": [],
   "source": [
    "#!/usr/bin/python\n",
    "\n",
    "#####################################################################\n",
    "# This script presents SPECTATOR mode. In SPECTATOR mode you play and\n",
    "# your agent can learn from it.\n",
    "# Configuration is loaded from \"../../examples/config/<SCENARIO_NAME>.cfg\" file.\n",
    "# \n",
    "# To see the scenario description go to \"../../scenarios/README.md\"\n",
    "# \n",
    "#####################################################################\n",
    "from __future__ import print_function\n",
    "from vizdoom import *\n",
    "from time import sleep\n",
    "\n",
    "game = DoomGame()"
   ]
  },
  {
   "cell_type": "code",
   "execution_count": 2,
   "metadata": {
    "collapsed": false
   },
   "outputs": [],
   "source": [
    "# Choose scenario config file you wish to watch.\n",
    "# Don't load two configs cause the second will overrite the first one.\n",
    "# Multiple config files are ok but combining these ones doesn't make much sense.\n",
    "\n",
    "game.load_config(\"../../examples/config/basic.cfg\")\n",
    "\n",
    "imgs = []\n",
    "actions=[]\n",
    "# game.load_config(\"../../examples/config/deadly_corridor.cfg\")\n",
    "# game.load_config(\"../../examples/config/deathmatch.cfg\")\n",
    "#game.load_config(\"../../examples/config/defend_the_center.cfg\")\n",
    "#game.load_config(\"../../examples/config/defend_the_line.cfg\")\n",
    "#game.load_config(\"../../examples/config/health_gathering.cfg\")\n",
    "#game.load_config(\"../../examples/config/my_way_home.cfg\")\n",
    "#game.load_config(\"../../examples/config/predict_position.cfg\")\n",
    "#game.load_config(\"../../examples/config/take_cover.cfg\")"
   ]
  },
  {
   "cell_type": "code",
   "execution_count": 3,
   "metadata": {
    "collapsed": false
   },
   "outputs": [],
   "source": [
    "import numpy as np\n",
    "from scipy.misc import toimage\n",
    "images = np.empty([80,80,300])\n",
    "# fp = np.memmap(filename, dtype='float32', mode='w+', shape=(3, 240, 320, 300,1000))\n",
    "ep = 0\n",
    "from PIL import Image\n",
    "# index = np.empty([2, 1])\n",
    "images = np.empty((80,80, 1))\n",
    "index = np.zeros((1,2))\n",
    "rew_step = [0]\n",
    "actions = np.zeros((1,3))\n",
    "rewards = [0]\n",
    "# index.shape"
   ]
  },
  {
   "cell_type": "code",
   "execution_count": 4,
   "metadata": {
    "collapsed": false,
    "scrolled": true
   },
   "outputs": [
    {
     "name": "stdout",
     "output_type": "stream",
     "text": [
      "\n",
      "Episode #1\n",
      "episode finished!\n",
      "final index 89\n",
      "total reward: 12.0\n",
      "************************\n",
      "Episode #2\n",
      "episode finished!\n",
      "final index 77\n",
      "total reward: 24.0\n",
      "************************\n",
      "Episode #3\n",
      "episode finished!\n",
      "final index 46\n",
      "total reward: 55.0\n",
      "************************\n",
      "Episode #4\n",
      "episode finished!\n",
      "final index 43\n",
      "total reward: 58.0\n",
      "************************\n",
      "Episode #5\n",
      "episode finished!\n",
      "final index 46\n",
      "total reward: 55.0\n",
      "************************\n",
      "Episode #6\n",
      "episode finished!\n",
      "final index 58\n",
      "total reward: 43.0\n",
      "************************\n",
      "Episode #7\n",
      "episode finished!\n",
      "final index 25\n",
      "total reward: 76.0\n",
      "************************\n",
      "Episode #8\n",
      "episode finished!\n",
      "final index 46\n",
      "total reward: 55.0\n",
      "************************\n",
      "Episode #9\n",
      "episode finished!\n",
      "final index 39\n",
      "total reward: 62.0\n",
      "************************\n",
      "Episode #10\n",
      "episode finished!\n",
      "final index 58\n",
      "total reward: 43.0\n",
      "************************\n",
      "Episode #11\n",
      "episode finished!\n",
      "final index 44\n",
      "total reward: 57.0\n",
      "************************\n",
      "Episode #12\n",
      "episode finished!\n",
      "final index 45\n",
      "total reward: 56.0\n",
      "************************\n",
      "Episode #13\n",
      "episode finished!\n",
      "final index 65\n",
      "total reward: 36.0\n",
      "************************\n",
      "Episode #14\n",
      "episode finished!\n",
      "final index 40\n",
      "total reward: 61.0\n",
      "************************\n",
      "Episode #15\n",
      "episode finished!\n",
      "final index 47\n",
      "total reward: 54.0\n",
      "************************\n",
      "Episode #16\n",
      "episode finished!\n",
      "final index 30\n",
      "total reward: 71.0\n",
      "************************\n",
      "Episode #17\n",
      "episode finished!\n",
      "final index 23\n",
      "total reward: 78.0\n",
      "************************\n",
      "Episode #18\n",
      "episode finished!\n",
      "final index 26\n",
      "total reward: 75.0\n",
      "************************\n",
      "Episode #19\n",
      "episode finished!\n",
      "final index 48\n",
      "total reward: 53.0\n",
      "************************\n",
      "Episode #20\n",
      "episode finished!\n",
      "final index 42\n",
      "total reward: 59.0\n",
      "************************\n",
      "Episode #21\n",
      "episode finished!\n",
      "final index 47\n",
      "total reward: 54.0\n",
      "************************\n",
      "Episode #22\n",
      "episode finished!\n",
      "final index 42\n",
      "total reward: 59.0\n",
      "************************\n",
      "Episode #23\n",
      "episode finished!\n",
      "final index 32\n",
      "total reward: 69.0\n",
      "************************\n",
      "Episode #24\n",
      "episode finished!\n",
      "final index 29\n",
      "total reward: 72.0\n",
      "************************\n",
      "Episode #25\n",
      "episode finished!\n",
      "final index 46\n",
      "total reward: 55.0\n",
      "************************\n",
      "Episode #26\n",
      "episode finished!\n",
      "final index 15\n",
      "total reward: 86.0\n",
      "************************\n",
      "Episode #27\n",
      "episode finished!\n",
      "final index 50\n",
      "total reward: 51.0\n",
      "************************\n",
      "Episode #28\n",
      "episode finished!\n",
      "final index 40\n",
      "total reward: 61.0\n",
      "************************\n",
      "Episode #29\n",
      "episode finished!\n",
      "final index 101\n",
      "total reward: -5.0\n",
      "************************\n",
      "Episode #30\n",
      "episode finished!\n",
      "final index 27\n",
      "total reward: 74.0\n",
      "************************\n",
      "Episode #31\n",
      "episode finished!\n",
      "final index 52\n",
      "total reward: 49.0\n",
      "************************\n",
      "Episode #32\n",
      "episode finished!\n",
      "final index 19\n",
      "total reward: 82.0\n",
      "************************\n",
      "Episode #33\n",
      "episode finished!\n",
      "final index 44\n",
      "total reward: 57.0\n",
      "************************\n",
      "Episode #34\n",
      "episode finished!\n",
      "final index 44\n",
      "total reward: 57.0\n",
      "************************\n",
      "Episode #35\n",
      "episode finished!\n",
      "final index 39\n",
      "total reward: 62.0\n",
      "************************\n",
      "Episode #36\n",
      "episode finished!\n",
      "final index 19\n",
      "total reward: 82.0\n",
      "************************\n",
      "Episode #37\n",
      "episode finished!\n",
      "final index 87\n",
      "total reward: 9.0\n",
      "************************\n",
      "Episode #38\n",
      "episode finished!\n",
      "final index 36\n",
      "total reward: 65.0\n",
      "************************\n",
      "Episode #39\n",
      "episode finished!\n",
      "final index 42\n",
      "total reward: 59.0\n",
      "************************\n",
      "Episode #40\n",
      "episode finished!\n",
      "final index 45\n",
      "total reward: 51.0\n",
      "************************\n",
      "Episode #41\n",
      "episode finished!\n",
      "final index 32\n",
      "total reward: 69.0\n",
      "************************\n",
      "Episode #42\n",
      "episode finished!\n",
      "final index 46\n",
      "total reward: 55.0\n",
      "************************\n",
      "Episode #43\n",
      "episode finished!\n",
      "final index 30\n",
      "total reward: 71.0\n",
      "************************\n",
      "Episode #44\n",
      "episode finished!\n",
      "final index 39\n",
      "total reward: 62.0\n",
      "************************\n",
      "Episode #45\n",
      "episode finished!\n",
      "final index 44\n",
      "total reward: 57.0\n",
      "************************\n",
      "Episode #46\n",
      "episode finished!\n",
      "final index 22\n",
      "total reward: 79.0\n",
      "************************\n",
      "Episode #47\n",
      "episode finished!\n",
      "final index 34\n",
      "total reward: 67.0\n",
      "************************\n",
      "Episode #48\n",
      "episode finished!\n",
      "final index 38\n",
      "total reward: 58.0\n",
      "************************\n",
      "Episode #49\n",
      "episode finished!\n",
      "final index 17\n",
      "total reward: 84.0\n",
      "************************\n",
      "Episode #50\n",
      "episode finished!\n",
      "final index 22\n",
      "total reward: 79.0\n",
      "************************\n",
      "Episode #51\n",
      "episode finished!\n",
      "final index 14\n",
      "total reward: 87.0\n",
      "************************\n",
      "Episode #52\n",
      "episode finished!\n",
      "final index 28\n",
      "total reward: 73.0\n",
      "************************\n",
      "Episode #53\n",
      "episode finished!\n",
      "final index 14\n",
      "total reward: 87.0\n",
      "************************\n",
      "Episode #54\n",
      "episode finished!\n",
      "final index 29\n",
      "total reward: 72.0\n",
      "************************\n",
      "Episode #55\n",
      "episode finished!\n",
      "final index 33\n",
      "total reward: 68.0\n",
      "************************\n",
      "Episode #56\n",
      "episode finished!\n",
      "final index 32\n",
      "total reward: 69.0\n",
      "************************\n",
      "Episode #57\n",
      "episode finished!\n",
      "final index 24\n",
      "total reward: 77.0\n",
      "************************\n",
      "Episode #58\n",
      "episode finished!\n",
      "final index 30\n",
      "total reward: 71.0\n",
      "************************\n",
      "Episode #59\n",
      "episode finished!\n",
      "final index 15\n",
      "total reward: 86.0\n",
      "************************\n",
      "Episode #60\n",
      "episode finished!\n",
      "final index 20\n",
      "total reward: 81.0\n",
      "************************\n",
      "Episode #61\n",
      "episode finished!\n",
      "final index 36\n",
      "total reward: 65.0\n",
      "************************\n",
      "Episode #62\n",
      "episode finished!\n",
      "final index 34\n",
      "total reward: 67.0\n",
      "************************\n",
      "Episode #63\n",
      "episode finished!\n",
      "final index 26\n",
      "total reward: 75.0\n",
      "************************\n",
      "Episode #64\n",
      "episode finished!\n",
      "final index 39\n",
      "total reward: 62.0\n",
      "************************\n",
      "Episode #65\n",
      "episode finished!\n",
      "final index 38\n",
      "total reward: 58.0\n",
      "************************\n",
      "Episode #66\n",
      "episode finished!\n",
      "final index 25\n",
      "total reward: 76.0\n",
      "************************\n",
      "Episode #67\n",
      "episode finished!\n",
      "final index 14\n",
      "total reward: 87.0\n",
      "************************\n",
      "Episode #68\n",
      "episode finished!\n",
      "final index 13\n",
      "total reward: 88.0\n",
      "************************\n",
      "Episode #69\n",
      "episode finished!\n",
      "final index 35\n",
      "total reward: 61.0\n",
      "************************\n",
      "Episode #70\n",
      "episode finished!\n",
      "final index 42\n",
      "total reward: 59.0\n",
      "************************\n",
      "Episode #71\n",
      "episode finished!\n",
      "final index 44\n",
      "total reward: 57.0\n",
      "************************\n",
      "Episode #72\n",
      "episode finished!\n",
      "final index 26\n",
      "total reward: 75.0\n",
      "************************\n",
      "Episode #73\n",
      "episode finished!\n",
      "final index 24\n",
      "total reward: 77.0\n",
      "************************\n",
      "Episode #74\n",
      "episode finished!\n",
      "final index 33\n",
      "total reward: 68.0\n",
      "************************\n",
      "Episode #75\n",
      "episode finished!\n",
      "final index 20\n",
      "total reward: 81.0\n",
      "************************\n",
      "Episode #76\n",
      "episode finished!\n",
      "final index 36\n",
      "total reward: 65.0\n",
      "************************\n",
      "Episode #77\n",
      "episode finished!\n",
      "final index 23\n",
      "total reward: 78.0\n",
      "************************\n",
      "Episode #78\n",
      "episode finished!\n",
      "final index 22\n",
      "total reward: 79.0\n",
      "************************\n",
      "Episode #79\n",
      "episode finished!\n",
      "final index 24\n",
      "total reward: 77.0\n",
      "************************\n",
      "Episode #80\n",
      "episode finished!\n",
      "final index 25\n",
      "total reward: 76.0\n",
      "************************\n",
      "Episode #81\n",
      "episode finished!\n",
      "final index 43\n",
      "total reward: 58.0\n",
      "************************\n",
      "Episode #82\n",
      "episode finished!\n",
      "final index 15\n",
      "total reward: 86.0\n",
      "************************\n",
      "Episode #83\n",
      "episode finished!\n",
      "final index 15\n",
      "total reward: 86.0\n",
      "************************\n",
      "Episode #84\n",
      "episode finished!\n",
      "final index 31\n",
      "total reward: 70.0\n",
      "************************\n",
      "Episode #85\n",
      "episode finished!\n",
      "final index 25\n",
      "total reward: 76.0\n",
      "************************\n",
      "Episode #86\n",
      "episode finished!\n",
      "final index 17\n",
      "total reward: 84.0\n",
      "************************\n",
      "Episode #87\n",
      "episode finished!\n",
      "final index 44\n",
      "total reward: 57.0\n",
      "************************\n",
      "Episode #88\n",
      "episode finished!\n",
      "final index 28\n",
      "total reward: 73.0\n",
      "************************\n",
      "Episode #89\n",
      "episode finished!\n",
      "final index 33\n",
      "total reward: 68.0\n",
      "************************\n",
      "Episode #90\n",
      "episode finished!\n",
      "final index 40\n",
      "total reward: 61.0\n",
      "************************\n",
      "Episode #91\n",
      "episode finished!\n",
      "final index 37\n",
      "total reward: 64.0\n",
      "************************\n",
      "Episode #92\n",
      "episode finished!\n",
      "final index 28\n",
      "total reward: 73.0\n",
      "************************\n",
      "Episode #93\n",
      "episode finished!\n",
      "final index 37\n",
      "total reward: 64.0\n",
      "************************\n",
      "Episode #94\n",
      "episode finished!\n",
      "final index 28\n",
      "total reward: 73.0\n",
      "************************\n",
      "Episode #95\n",
      "episode finished!\n",
      "final index 12\n",
      "total reward: 89.0\n",
      "************************\n",
      "Episode #96\n",
      "episode finished!\n",
      "final index 14\n",
      "total reward: 87.0\n",
      "************************\n",
      "Episode #97\n",
      "episode finished!\n",
      "final index 41\n",
      "total reward: 60.0\n",
      "************************\n",
      "Episode #98\n",
      "episode finished!\n",
      "final index 31\n",
      "total reward: 70.0\n",
      "************************\n",
      "Episode #99\n",
      "episode finished!\n",
      "final index 34\n",
      "total reward: 67.0\n",
      "************************\n",
      "Episode #100\n",
      "episode finished!\n",
      "final index 20\n",
      "total reward: 81.0\n",
      "************************\n"
     ]
    }
   ],
   "source": [
    "# Enables spectator mode, so you can play. Sounds strange but it is agent who is supposed to watch not you.\n",
    "game.set_window_visible(True)\n",
    "game.set_mode(Mode.SPECTATOR)\n",
    "frame_sk = 1\n",
    "\n",
    "game.init()\n",
    "\n",
    "episodes = 100\n",
    "#     index = np.empty([1, 1])\n",
    "\n",
    "\n",
    "print(\"\")\n",
    "for i in range(episodes):\n",
    "\n",
    "    print(\"Episode #\" +str(i+1))\n",
    "\n",
    "    game.new_episode()\n",
    "    while not game.is_episode_finished():\n",
    "\n",
    "        s = game.get_state()\n",
    "        img = s.image_buffer\n",
    "        misc = s.game_variables\n",
    "\n",
    "        game.advance_action()\n",
    "        a = game.get_last_action()\n",
    "        r = game.get_last_reward()\n",
    "        \n",
    "        if (s.number % frame_sk == 0):\n",
    "            im_ar = np.array(toimage(img).resize((80,80), Image.ANTIALIAS).convert('L'))\n",
    "            images = np.dstack((images, im_ar))\n",
    "            actions = np.append(actions, np.atleast_2d(a), axis=0)\n",
    "            rew_step.append(r)\n",
    "            \n",
    "            \n",
    "            \n",
    "        \n",
    "#         imgs.append(img)\n",
    "#         actions.append(a)\n",
    "\n",
    "        #print(\"state #\"+str(s.number))\n",
    "        #print(\"game variables: \", misc)\n",
    "        #print(\"action:\", a)\n",
    "        #print(\"reward:\",r)\n",
    "        #print(\"=====================\")\n",
    "\n",
    "    \n",
    "    print(\"episode finished!\")\n",
    "    print(\"final index\", (s.number - s.number %frame_sk)/frame_sk)\n",
    "    ind = (s.number - s.number %frame_sk)/ frame_sk\n",
    "    start_ind = 239\n",
    "    if ep == 0:\n",
    "        start_ind = 1\n",
    "    else:\n",
    "        start_ind = index[-1, 1]+1\n",
    "    index = np.append(index, np.atleast_2d([start_ind,start_ind + ind -1]), axis=0)\n",
    "    print(\"total reward:\", game.get_total_reward())\n",
    "    rewards.append(game.get_total_reward())\n",
    "    print(\"************************\")\n",
    "    sleep(2.0)\n",
    "\n",
    "    ep += 1\n",
    "\n",
    "game.close()\n",
    "# fp[:,:,:,:,ep] = images"
   ]
  },
  {
   "cell_type": "code",
   "execution_count": 5,
   "metadata": {
    "collapsed": false
   },
   "outputs": [
    {
     "data": {
      "text/plain": [
       "64.970297029702976"
      ]
     },
     "execution_count": 5,
     "metadata": {},
     "output_type": "execute_result"
    }
   ],
   "source": [
    "np.mean(rewards)"
   ]
  },
  {
   "cell_type": "code",
   "execution_count": 6,
   "metadata": {
    "collapsed": false
   },
   "outputs": [
    {
     "data": {
      "text/plain": [
       "(80, 80, 3509)"
      ]
     },
     "execution_count": 6,
     "metadata": {},
     "output_type": "execute_result"
    }
   ],
   "source": [
    "images.shape"
   ]
  },
  {
   "cell_type": "code",
   "execution_count": 7,
   "metadata": {
    "collapsed": false
   },
   "outputs": [
    {
     "data": {
      "text/plain": [
       "1598"
      ]
     },
     "execution_count": 7,
     "metadata": {},
     "output_type": "execute_result"
    }
   ],
   "source": [
    "(actions.sum(axis = 1) != 0).sum()"
   ]
  },
  {
   "cell_type": "code",
   "execution_count": 8,
   "metadata": {
    "collapsed": true
   },
   "outputs": [
    {
     "data": {
      "text/plain": [
       "array([[   0,    0],\n",
       "       [   1,   89],\n",
       "       [  90,  166],\n",
       "       [ 167,  212],\n",
       "       [ 213,  255],\n",
       "       [ 256,  301],\n",
       "       [ 302,  359],\n",
       "       [ 360,  384],\n",
       "       [ 385,  430],\n",
       "       [ 431,  469],\n",
       "       [ 470,  527],\n",
       "       [ 528,  571],\n",
       "       [ 572,  616],\n",
       "       [ 617,  681],\n",
       "       [ 682,  721],\n",
       "       [ 722,  768],\n",
       "       [ 769,  798],\n",
       "       [ 799,  821],\n",
       "       [ 822,  847],\n",
       "       [ 848,  895],\n",
       "       [ 896,  937],\n",
       "       [ 938,  984],\n",
       "       [ 985, 1026],\n",
       "       [1027, 1058],\n",
       "       [1059, 1087],\n",
       "       [1088, 1133],\n",
       "       [1134, 1148],\n",
       "       [1149, 1198],\n",
       "       [1199, 1238],\n",
       "       [1239, 1339],\n",
       "       [1340, 1366],\n",
       "       [1367, 1418],\n",
       "       [1419, 1437],\n",
       "       [1438, 1481],\n",
       "       [1482, 1525],\n",
       "       [1526, 1564],\n",
       "       [1565, 1583],\n",
       "       [1584, 1670],\n",
       "       [1671, 1706],\n",
       "       [1707, 1748],\n",
       "       [1749, 1793],\n",
       "       [1794, 1825],\n",
       "       [1826, 1871],\n",
       "       [1872, 1901],\n",
       "       [1902, 1940],\n",
       "       [1941, 1984],\n",
       "       [1985, 2006],\n",
       "       [2007, 2040],\n",
       "       [2041, 2078],\n",
       "       [2079, 2095],\n",
       "       [2096, 2117],\n",
       "       [2118, 2131],\n",
       "       [2132, 2159],\n",
       "       [2160, 2173],\n",
       "       [2174, 2202],\n",
       "       [2203, 2235],\n",
       "       [2236, 2267],\n",
       "       [2268, 2291],\n",
       "       [2292, 2321],\n",
       "       [2322, 2336],\n",
       "       [2337, 2356],\n",
       "       [2357, 2392],\n",
       "       [2393, 2426],\n",
       "       [2427, 2452],\n",
       "       [2453, 2491],\n",
       "       [2492, 2529],\n",
       "       [2530, 2554],\n",
       "       [2555, 2568],\n",
       "       [2569, 2581],\n",
       "       [2582, 2616],\n",
       "       [2617, 2658],\n",
       "       [2659, 2702],\n",
       "       [2703, 2728],\n",
       "       [2729, 2752],\n",
       "       [2753, 2785],\n",
       "       [2786, 2805],\n",
       "       [2806, 2841],\n",
       "       [2842, 2864],\n",
       "       [2865, 2886],\n",
       "       [2887, 2910],\n",
       "       [2911, 2935],\n",
       "       [2936, 2978],\n",
       "       [2979, 2993],\n",
       "       [2994, 3008],\n",
       "       [3009, 3039],\n",
       "       [3040, 3064],\n",
       "       [3065, 3081],\n",
       "       [3082, 3125],\n",
       "       [3126, 3153],\n",
       "       [3154, 3186],\n",
       "       [3187, 3226],\n",
       "       [3227, 3263],\n",
       "       [3264, 3291],\n",
       "       [3292, 3328],\n",
       "       [3329, 3356],\n",
       "       [3357, 3368],\n",
       "       [3369, 3382],\n",
       "       [3383, 3423],\n",
       "       [3424, 3454],\n",
       "       [3455, 3488],\n",
       "       [3489, 3508]])"
      ]
     },
     "execution_count": 8,
     "metadata": {},
     "output_type": "execute_result"
    }
   ],
   "source": [
    "index = index.astype(int)\n",
    "index"
   ]
  },
  {
   "cell_type": "code",
   "execution_count": null,
   "metadata": {
    "collapsed": false
   },
   "outputs": [],
   "source": [
    "images[:,:,index[1,0]:index[1,1]+1]"
   ]
  },
  {
   "cell_type": "code",
   "execution_count": null,
   "metadata": {
    "collapsed": false
   },
   "outputs": [],
   "source": [
    "index[1,1]"
   ]
  },
  {
   "cell_type": "code",
   "execution_count": 9,
   "metadata": {
    "collapsed": true
   },
   "outputs": [],
   "source": [
    "actions_new = np.zeros((actions.shape[0], 4))"
   ]
  },
  {
   "cell_type": "code",
   "execution_count": 10,
   "metadata": {
    "collapsed": true
   },
   "outputs": [],
   "source": [
    "actions_new[:,1] = actions[:,2]\n",
    "actions_new[:,2] = actions[:,1]\n",
    "actions_new[:,3] = actions[:,0]\n",
    "actions_new[:,0] = 1- np.sum(actions, axis = 1)"
   ]
  },
  {
   "cell_type": "code",
   "execution_count": 14,
   "metadata": {
    "collapsed": false,
    "scrolled": true
   },
   "outputs": [],
   "source": [
    "rew_step = map(int, rew_step)"
   ]
  },
  {
   "cell_type": "code",
   "execution_count": 19,
   "metadata": {
    "collapsed": false
   },
   "outputs": [],
   "source": [
    "import pickle\n",
    "a = images[:,:,2:4]\n",
    "string_rew = pickle.dumps(a)"
   ]
  },
  {
   "cell_type": "code",
   "execution_count": 20,
   "metadata": {
    "collapsed": false
   },
   "outputs": [
    {
     "data": {
      "text/plain": [
       "array([[[  59.,   59.],\n",
       "        [  65.,   65.],\n",
       "        [  64.,   64.],\n",
       "        ..., \n",
       "        [  66.,   66.],\n",
       "        [  61.,   61.],\n",
       "        [  67.,   67.]],\n",
       "\n",
       "       [[  74.,   74.],\n",
       "        [  60.,   60.],\n",
       "        [  52.,   52.],\n",
       "        ..., \n",
       "        [  54.,   54.],\n",
       "        [  69.,   69.],\n",
       "        [  68.,   68.]],\n",
       "\n",
       "       [[  45.,   45.],\n",
       "        [  64.,   64.],\n",
       "        [  38.,   38.],\n",
       "        ..., \n",
       "        [  58.,   58.],\n",
       "        [  57.,   57.],\n",
       "        [  29.,   29.]],\n",
       "\n",
       "       ..., \n",
       "       [[  73.,   73.],\n",
       "        [  75.,   75.],\n",
       "        [  93.,   93.],\n",
       "        ..., \n",
       "        [ 142.,  142.],\n",
       "        [  88.,   88.],\n",
       "        [  60.,   60.]],\n",
       "\n",
       "       [[  43.,   43.],\n",
       "        [  59.,   59.],\n",
       "        [ 107.,  107.],\n",
       "        ..., \n",
       "        [ 119.,  119.],\n",
       "        [  74.,   74.],\n",
       "        [  57.,   57.]],\n",
       "\n",
       "       [[  17.,   17.],\n",
       "        [  32.,   32.],\n",
       "        [  38.,   38.],\n",
       "        ..., \n",
       "        [  35.,   35.],\n",
       "        [  50.,   50.],\n",
       "        [  45.,   45.]]])"
      ]
     },
     "execution_count": 20,
     "metadata": {},
     "output_type": "execute_result"
    }
   ],
   "source": [
    "pickle.loads(string_rew)"
   ]
  },
  {
   "cell_type": "code",
   "execution_count": 22,
   "metadata": {
    "collapsed": false
   },
   "outputs": [],
   "source": [
    "import pandas as pd\n",
    "df=pd.DataFrame(data = [pickle.dumps(images),pickle.dumps(index),  pickle.dumps(actions),\n",
    "                        pickle.dumps(actions_new),pickle.dumps(rewards), pickle.dumps(rew_step)]).transpose()"
   ]
  },
  {
   "cell_type": "code",
   "execution_count": 43,
   "metadata": {
    "collapsed": false,
    "scrolled": true
   },
   "outputs": [
    {
     "data": {
      "text/plain": [
       "'cnumpy.core.multiarray\\n_reconstruct\\np0\\n(cnumpy\\nndarray\\np1\\n(I0\\ntp2\\nS\\'b\\'\\np3\\ntp4\\nRp5\\n(I1\\n(I101\\nI2\\ntp6\\ncnumpy\\ndtype\\np7\\n(S\\'i8\\'\\np8\\nI0\\nI1\\ntp9\\nRp10\\n(I3\\nS\\'<\\'\\np11\\nNNNI-1\\nI-1\\nI0\\ntp12\\nbI00\\nS\\'\\\\x00\\\\x00\\\\x00\\\\x00\\\\x00\\\\x00\\\\x00\\\\x00\\\\x00\\\\x00\\\\x00\\\\x00\\\\x00\\\\x00\\\\x00\\\\x00\\\\x01\\\\x00\\\\x00\\\\x00\\\\x00\\\\x00\\\\x00\\\\x00Y\\\\x00\\\\x00\\\\x00\\\\x00\\\\x00\\\\x00\\\\x00Z\\\\x00\\\\x00\\\\x00\\\\x00\\\\x00\\\\x00\\\\x00\\\\xa6\\\\x00\\\\x00\\\\x00\\\\x00\\\\x00\\\\x00\\\\x00\\\\xa7\\\\x00\\\\x00\\\\x00\\\\x00\\\\x00\\\\x00\\\\x00\\\\xd4\\\\x00\\\\x00\\\\x00\\\\x00\\\\x00\\\\x00\\\\x00\\\\xd5\\\\x00\\\\x00\\\\x00\\\\x00\\\\x00\\\\x00\\\\x00\\\\xff\\\\x00\\\\x00\\\\x00\\\\x00\\\\x00\\\\x00\\\\x00\\\\x00\\\\x01\\\\x00\\\\x00\\\\x00\\\\x00\\\\x00\\\\x00-\\\\x01\\\\x00\\\\x00\\\\x00\\\\x00\\\\x00\\\\x00.\\\\x01\\\\x00\\\\x00\\\\x00\\\\x00\\\\x00\\\\x00g\\\\x01\\\\x00\\\\x00\\\\x00\\\\x00\\\\x00\\\\x00h\\\\x01\\\\x00\\\\x00\\\\x00\\\\x00\\\\x00\\\\x00\\\\x80\\\\x01\\\\x00\\\\x00\\\\x00\\\\x00\\\\x00\\\\x00\\\\x81\\\\x01\\\\x00\\\\x00\\\\x00\\\\x00\\\\x00\\\\x00\\\\xae\\\\x01\\\\x00\\\\x00\\\\x00\\\\x00\\\\x00\\\\x00\\\\xaf\\\\x01\\\\x00\\\\x00\\\\x00\\\\x00\\\\x00\\\\x00\\\\xd5\\\\x01\\\\x00\\\\x00\\\\x00\\\\x00\\\\x00\\\\x00\\\\xd6\\\\x01\\\\x00\\\\x00\\\\x00\\\\x00\\\\x00\\\\x00\\\\x0f\\\\x02\\\\x00\\\\x00\\\\x00\\\\x00\\\\x00\\\\x00\\\\x10\\\\x02\\\\x00\\\\x00\\\\x00\\\\x00\\\\x00\\\\x00;\\\\x02\\\\x00\\\\x00\\\\x00\\\\x00\\\\x00\\\\x00<\\\\x02\\\\x00\\\\x00\\\\x00\\\\x00\\\\x00\\\\x00h\\\\x02\\\\x00\\\\x00\\\\x00\\\\x00\\\\x00\\\\x00i\\\\x02\\\\x00\\\\x00\\\\x00\\\\x00\\\\x00\\\\x00\\\\xa9\\\\x02\\\\x00\\\\x00\\\\x00\\\\x00\\\\x00\\\\x00\\\\xaa\\\\x02\\\\x00\\\\x00\\\\x00\\\\x00\\\\x00\\\\x00\\\\xd1\\\\x02\\\\x00\\\\x00\\\\x00\\\\x00\\\\x00\\\\x00\\\\xd2\\\\x02\\\\x00\\\\x00\\\\x00\\\\x00\\\\x00\\\\x00\\\\x00\\\\x03\\\\x00\\\\x00\\\\x00\\\\x00\\\\x00\\\\x00\\\\x01\\\\x03\\\\x00\\\\x00\\\\x00\\\\x00\\\\x00\\\\x00\\\\x1e\\\\x03\\\\x00\\\\x00\\\\x00\\\\x00\\\\x00\\\\x00\\\\x1f\\\\x03\\\\x00\\\\x00\\\\x00\\\\x00\\\\x00\\\\x005\\\\x03\\\\x00\\\\x00\\\\x00\\\\x00\\\\x00\\\\x006\\\\x03\\\\x00\\\\x00\\\\x00\\\\x00\\\\x00\\\\x00O\\\\x03\\\\x00\\\\x00\\\\x00\\\\x00\\\\x00\\\\x00P\\\\x03\\\\x00\\\\x00\\\\x00\\\\x00\\\\x00\\\\x00\\\\x7f\\\\x03\\\\x00\\\\x00\\\\x00\\\\x00\\\\x00\\\\x00\\\\x80\\\\x03\\\\x00\\\\x00\\\\x00\\\\x00\\\\x00\\\\x00\\\\xa9\\\\x03\\\\x00\\\\x00\\\\x00\\\\x00\\\\x00\\\\x00\\\\xaa\\\\x03\\\\x00\\\\x00\\\\x00\\\\x00\\\\x00\\\\x00\\\\xd8\\\\x03\\\\x00\\\\x00\\\\x00\\\\x00\\\\x00\\\\x00\\\\xd9\\\\x03\\\\x00\\\\x00\\\\x00\\\\x00\\\\x00\\\\x00\\\\x02\\\\x04\\\\x00\\\\x00\\\\x00\\\\x00\\\\x00\\\\x00\\\\x03\\\\x04\\\\x00\\\\x00\\\\x00\\\\x00\\\\x00\\\\x00\"\\\\x04\\\\x00\\\\x00\\\\x00\\\\x00\\\\x00\\\\x00#\\\\x04\\\\x00\\\\x00\\\\x00\\\\x00\\\\x00\\\\x00?\\\\x04\\\\x00\\\\x00\\\\x00\\\\x00\\\\x00\\\\x00@\\\\x04\\\\x00\\\\x00\\\\x00\\\\x00\\\\x00\\\\x00m\\\\x04\\\\x00\\\\x00\\\\x00\\\\x00\\\\x00\\\\x00n\\\\x04\\\\x00\\\\x00\\\\x00\\\\x00\\\\x00\\\\x00|\\\\x04\\\\x00\\\\x00\\\\x00\\\\x00\\\\x00\\\\x00}\\\\x04\\\\x00\\\\x00\\\\x00\\\\x00\\\\x00\\\\x00\\\\xae\\\\x04\\\\x00\\\\x00\\\\x00\\\\x00\\\\x00\\\\x00\\\\xaf\\\\x04\\\\x00\\\\x00\\\\x00\\\\x00\\\\x00\\\\x00\\\\xd6\\\\x04\\\\x00\\\\x00\\\\x00\\\\x00\\\\x00\\\\x00\\\\xd7\\\\x04\\\\x00\\\\x00\\\\x00\\\\x00\\\\x00\\\\x00;\\\\x05\\\\x00\\\\x00\\\\x00\\\\x00\\\\x00\\\\x00<\\\\x05\\\\x00\\\\x00\\\\x00\\\\x00\\\\x00\\\\x00V\\\\x05\\\\x00\\\\x00\\\\x00\\\\x00\\\\x00\\\\x00W\\\\x05\\\\x00\\\\x00\\\\x00\\\\x00\\\\x00\\\\x00\\\\x8a\\\\x05\\\\x00\\\\x00\\\\x00\\\\x00\\\\x00\\\\x00\\\\x8b\\\\x05\\\\x00\\\\x00\\\\x00\\\\x00\\\\x00\\\\x00\\\\x9d\\\\x05\\\\x00\\\\x00\\\\x00\\\\x00\\\\x00\\\\x00\\\\x9e\\\\x05\\\\x00\\\\x00\\\\x00\\\\x00\\\\x00\\\\x00\\\\xc9\\\\x05\\\\x00\\\\x00\\\\x00\\\\x00\\\\x00\\\\x00\\\\xca\\\\x05\\\\x00\\\\x00\\\\x00\\\\x00\\\\x00\\\\x00\\\\xf5\\\\x05\\\\x00\\\\x00\\\\x00\\\\x00\\\\x00\\\\x00\\\\xf6\\\\x05\\\\x00\\\\x00\\\\x00\\\\x00\\\\x00\\\\x00\\\\x1c\\\\x06\\\\x00\\\\x00\\\\x00\\\\x00\\\\x00\\\\x00\\\\x1d\\\\x06\\\\x00\\\\x00\\\\x00\\\\x00\\\\x00\\\\x00/\\\\x06\\\\x00\\\\x00\\\\x00\\\\x00\\\\x00\\\\x000\\\\x06\\\\x00\\\\x00\\\\x00\\\\x00\\\\x00\\\\x00\\\\x86\\\\x06\\\\x00\\\\x00\\\\x00\\\\x00\\\\x00\\\\x00\\\\x87\\\\x06\\\\x00\\\\x00\\\\x00\\\\x00\\\\x00\\\\x00\\\\xaa\\\\x06\\\\x00\\\\x00\\\\x00\\\\x00\\\\x00\\\\x00\\\\xab\\\\x06\\\\x00\\\\x00\\\\x00\\\\x00\\\\x00\\\\x00\\\\xd4\\\\x06\\\\x00\\\\x00\\\\x00\\\\x00\\\\x00\\\\x00\\\\xd5\\\\x06\\\\x00\\\\x00\\\\x00\\\\x00\\\\x00\\\\x00\\\\x01\\\\x07\\\\x00\\\\x00\\\\x00\\\\x00\\\\x00\\\\x00\\\\x02\\\\x07\\\\x00\\\\x00\\\\x00\\\\x00\\\\x00\\\\x00!\\\\x07\\\\x00\\\\x00\\\\x00\\\\x00\\\\x00\\\\x00\"\\\\x07\\\\x00\\\\x00\\\\x00\\\\x00\\\\x00\\\\x00O\\\\x07\\\\x00\\\\x00\\\\x00\\\\x00\\\\x00\\\\x00P\\\\x07\\\\x00\\\\x00\\\\x00\\\\x00\\\\x00\\\\x00m\\\\x07\\\\x00\\\\x00\\\\x00\\\\x00\\\\x00\\\\x00n\\\\x07\\\\x00\\\\x00\\\\x00\\\\x00\\\\x00\\\\x00\\\\x94\\\\x07\\\\x00\\\\x00\\\\x00\\\\x00\\\\x00\\\\x00\\\\x95\\\\x07\\\\x00\\\\x00\\\\x00\\\\x00\\\\x00\\\\x00\\\\xc0\\\\x07\\\\x00\\\\x00\\\\x00\\\\x00\\\\x00\\\\x00\\\\xc1\\\\x07\\\\x00\\\\x00\\\\x00\\\\x00\\\\x00\\\\x00\\\\xd6\\\\x07\\\\x00\\\\x00\\\\x00\\\\x00\\\\x00\\\\x00\\\\xd7\\\\x07\\\\x00\\\\x00\\\\x00\\\\x00\\\\x00\\\\x00\\\\xf8\\\\x07\\\\x00\\\\x00\\\\x00\\\\x00\\\\x00\\\\x00\\\\xf9\\\\x07\\\\x00\\\\x00\\\\x00\\\\x00\\\\x00\\\\x00\\\\x1e\\\\x08\\\\x00\\\\x00\\\\x00\\\\x00\\\\x00\\\\x00\\\\x1f\\\\x08\\\\x00\\\\x00\\\\x00\\\\x00\\\\x00\\\\x00/\\\\x08\\\\x00\\\\x00\\\\x00\\\\x00\\\\x00\\\\x000\\\\x08\\\\x00\\\\x00\\\\x00\\\\x00\\\\x00\\\\x00E\\\\x08\\\\x00\\\\x00\\\\x00\\\\x00\\\\x00\\\\x00F\\\\x08\\\\x00\\\\x00\\\\x00\\\\x00\\\\x00\\\\x00S\\\\x08\\\\x00\\\\x00\\\\x00\\\\x00\\\\x00\\\\x00T\\\\x08\\\\x00\\\\x00\\\\x00\\\\x00\\\\x00\\\\x00o\\\\x08\\\\x00\\\\x00\\\\x00\\\\x00\\\\x00\\\\x00p\\\\x08\\\\x00\\\\x00\\\\x00\\\\x00\\\\x00\\\\x00}\\\\x08\\\\x00\\\\x00\\\\x00\\\\x00\\\\x00\\\\x00~\\\\x08\\\\x00\\\\x00\\\\x00\\\\x00\\\\x00\\\\x00\\\\x9a\\\\x08\\\\x00\\\\x00\\\\x00\\\\x00\\\\x00\\\\x00\\\\x9b\\\\x08\\\\x00\\\\x00\\\\x00\\\\x00\\\\x00\\\\x00\\\\xbb\\\\x08\\\\x00\\\\x00\\\\x00\\\\x00\\\\x00\\\\x00\\\\xbc\\\\x08\\\\x00\\\\x00\\\\x00\\\\x00\\\\x00\\\\x00\\\\xdb\\\\x08\\\\x00\\\\x00\\\\x00\\\\x00\\\\x00\\\\x00\\\\xdc\\\\x08\\\\x00\\\\x00\\\\x00\\\\x00\\\\x00\\\\x00\\\\xf3\\\\x08\\\\x00\\\\x00\\\\x00\\\\x00\\\\x00\\\\x00\\\\xf4\\\\x08\\\\x00\\\\x00\\\\x00\\\\x00\\\\x00\\\\x00\\\\x11\\\\t\\\\x00\\\\x00\\\\x00\\\\x00\\\\x00\\\\x00\\\\x12\\\\t\\\\x00\\\\x00\\\\x00\\\\x00\\\\x00\\\\x00 \\\\t\\\\x00\\\\x00\\\\x00\\\\x00\\\\x00\\\\x00!\\\\t\\\\x00\\\\x00\\\\x00\\\\x00\\\\x00\\\\x004\\\\t\\\\x00\\\\x00\\\\x00\\\\x00\\\\x00\\\\x005\\\\t\\\\x00\\\\x00\\\\x00\\\\x00\\\\x00\\\\x00X\\\\t\\\\x00\\\\x00\\\\x00\\\\x00\\\\x00\\\\x00Y\\\\t\\\\x00\\\\x00\\\\x00\\\\x00\\\\x00\\\\x00z\\\\t\\\\x00\\\\x00\\\\x00\\\\x00\\\\x00\\\\x00{\\\\t\\\\x00\\\\x00\\\\x00\\\\x00\\\\x00\\\\x00\\\\x94\\\\t\\\\x00\\\\x00\\\\x00\\\\x00\\\\x00\\\\x00\\\\x95\\\\t\\\\x00\\\\x00\\\\x00\\\\x00\\\\x00\\\\x00\\\\xbb\\\\t\\\\x00\\\\x00\\\\x00\\\\x00\\\\x00\\\\x00\\\\xbc\\\\t\\\\x00\\\\x00\\\\x00\\\\x00\\\\x00\\\\x00\\\\xe1\\\\t\\\\x00\\\\x00\\\\x00\\\\x00\\\\x00\\\\x00\\\\xe2\\\\t\\\\x00\\\\x00\\\\x00\\\\x00\\\\x00\\\\x00\\\\xfa\\\\t\\\\x00\\\\x00\\\\x00\\\\x00\\\\x00\\\\x00\\\\xfb\\\\t\\\\x00\\\\x00\\\\x00\\\\x00\\\\x00\\\\x00\\\\x08\\\\n\\\\x00\\\\x00\\\\x00\\\\x00\\\\x00\\\\x00\\\\t\\\\n\\\\x00\\\\x00\\\\x00\\\\x00\\\\x00\\\\x00\\\\x15\\\\n\\\\x00\\\\x00\\\\x00\\\\x00\\\\x00\\\\x00\\\\x16\\\\n\\\\x00\\\\x00\\\\x00\\\\x00\\\\x00\\\\x008\\\\n\\\\x00\\\\x00\\\\x00\\\\x00\\\\x00\\\\x009\\\\n\\\\x00\\\\x00\\\\x00\\\\x00\\\\x00\\\\x00b\\\\n\\\\x00\\\\x00\\\\x00\\\\x00\\\\x00\\\\x00c\\\\n\\\\x00\\\\x00\\\\x00\\\\x00\\\\x00\\\\x00\\\\x8e\\\\n\\\\x00\\\\x00\\\\x00\\\\x00\\\\x00\\\\x00\\\\x8f\\\\n\\\\x00\\\\x00\\\\x00\\\\x00\\\\x00\\\\x00\\\\xa8\\\\n\\\\x00\\\\x00\\\\x00\\\\x00\\\\x00\\\\x00\\\\xa9\\\\n\\\\x00\\\\x00\\\\x00\\\\x00\\\\x00\\\\x00\\\\xc0\\\\n\\\\x00\\\\x00\\\\x00\\\\x00\\\\x00\\\\x00\\\\xc1\\\\n\\\\x00\\\\x00\\\\x00\\\\x00\\\\x00\\\\x00\\\\xe1\\\\n\\\\x00\\\\x00\\\\x00\\\\x00\\\\x00\\\\x00\\\\xe2\\\\n\\\\x00\\\\x00\\\\x00\\\\x00\\\\x00\\\\x00\\\\xf5\\\\n\\\\x00\\\\x00\\\\x00\\\\x00\\\\x00\\\\x00\\\\xf6\\\\n\\\\x00\\\\x00\\\\x00\\\\x00\\\\x00\\\\x00\\\\x19\\\\x0b\\\\x00\\\\x00\\\\x00\\\\x00\\\\x00\\\\x00\\\\x1a\\\\x0b\\\\x00\\\\x00\\\\x00\\\\x00\\\\x00\\\\x000\\\\x0b\\\\x00\\\\x00\\\\x00\\\\x00\\\\x00\\\\x001\\\\x0b\\\\x00\\\\x00\\\\x00\\\\x00\\\\x00\\\\x00F\\\\x0b\\\\x00\\\\x00\\\\x00\\\\x00\\\\x00\\\\x00G\\\\x0b\\\\x00\\\\x00\\\\x00\\\\x00\\\\x00\\\\x00^\\\\x0b\\\\x00\\\\x00\\\\x00\\\\x00\\\\x00\\\\x00_\\\\x0b\\\\x00\\\\x00\\\\x00\\\\x00\\\\x00\\\\x00w\\\\x0b\\\\x00\\\\x00\\\\x00\\\\x00\\\\x00\\\\x00x\\\\x0b\\\\x00\\\\x00\\\\x00\\\\x00\\\\x00\\\\x00\\\\xa2\\\\x0b\\\\x00\\\\x00\\\\x00\\\\x00\\\\x00\\\\x00\\\\xa3\\\\x0b\\\\x00\\\\x00\\\\x00\\\\x00\\\\x00\\\\x00\\\\xb1\\\\x0b\\\\x00\\\\x00\\\\x00\\\\x00\\\\x00\\\\x00\\\\xb2\\\\x0b\\\\x00\\\\x00\\\\x00\\\\x00\\\\x00\\\\x00\\\\xc0\\\\x0b\\\\x00\\\\x00\\\\x00\\\\x00\\\\x00\\\\x00\\\\xc1\\\\x0b\\\\x00\\\\x00\\\\x00\\\\x00\\\\x00\\\\x00\\\\xdf\\\\x0b\\\\x00\\\\x00\\\\x00\\\\x00\\\\x00\\\\x00\\\\xe0\\\\x0b\\\\x00\\\\x00\\\\x00\\\\x00\\\\x00\\\\x00\\\\xf8\\\\x0b\\\\x00\\\\x00\\\\x00\\\\x00\\\\x00\\\\x00\\\\xf9\\\\x0b\\\\x00\\\\x00\\\\x00\\\\x00\\\\x00\\\\x00\\\\t\\\\x0c\\\\x00\\\\x00\\\\x00\\\\x00\\\\x00\\\\x00\\\\n\\\\x0c\\\\x00\\\\x00\\\\x00\\\\x00\\\\x00\\\\x005\\\\x0c\\\\x00\\\\x00\\\\x00\\\\x00\\\\x00\\\\x006\\\\x0c\\\\x00\\\\x00\\\\x00\\\\x00\\\\x00\\\\x00Q\\\\x0c\\\\x00\\\\x00\\\\x00\\\\x00\\\\x00\\\\x00R\\\\x0c\\\\x00\\\\x00\\\\x00\\\\x00\\\\x00\\\\x00r\\\\x0c\\\\x00\\\\x00\\\\x00\\\\x00\\\\x00\\\\x00s\\\\x0c\\\\x00\\\\x00\\\\x00\\\\x00\\\\x00\\\\x00\\\\x9a\\\\x0c\\\\x00\\\\x00\\\\x00\\\\x00\\\\x00\\\\x00\\\\x9b\\\\x0c\\\\x00\\\\x00\\\\x00\\\\x00\\\\x00\\\\x00\\\\xbf\\\\x0c\\\\x00\\\\x00\\\\x00\\\\x00\\\\x00\\\\x00\\\\xc0\\\\x0c\\\\x00\\\\x00\\\\x00\\\\x00\\\\x00\\\\x00\\\\xdb\\\\x0c\\\\x00\\\\x00\\\\x00\\\\x00\\\\x00\\\\x00\\\\xdc\\\\x0c\\\\x00\\\\x00\\\\x00\\\\x00\\\\x00\\\\x00\\\\x00\\\\r\\\\x00\\\\x00\\\\x00\\\\x00\\\\x00\\\\x00\\\\x01\\\\r\\\\x00\\\\x00\\\\x00\\\\x00\\\\x00\\\\x00\\\\x1c\\\\r\\\\x00\\\\x00\\\\x00\\\\x00\\\\x00\\\\x00\\\\x1d\\\\r\\\\x00\\\\x00\\\\x00\\\\x00\\\\x00\\\\x00(\\\\r\\\\x00\\\\x00\\\\x00\\\\x00\\\\x00\\\\x00)\\\\r\\\\x00\\\\x00\\\\x00\\\\x00\\\\x00\\\\x006\\\\r\\\\x00\\\\x00\\\\x00\\\\x00\\\\x00\\\\x007\\\\r\\\\x00\\\\x00\\\\x00\\\\x00\\\\x00\\\\x00_\\\\r\\\\x00\\\\x00\\\\x00\\\\x00\\\\x00\\\\x00`\\\\r\\\\x00\\\\x00\\\\x00\\\\x00\\\\x00\\\\x00~\\\\r\\\\x00\\\\x00\\\\x00\\\\x00\\\\x00\\\\x00\\\\x7f\\\\r\\\\x00\\\\x00\\\\x00\\\\x00\\\\x00\\\\x00\\\\xa0\\\\r\\\\x00\\\\x00\\\\x00\\\\x00\\\\x00\\\\x00\\\\xa1\\\\r\\\\x00\\\\x00\\\\x00\\\\x00\\\\x00\\\\x00\\\\xb4\\\\r\\\\x00\\\\x00\\\\x00\\\\x00\\\\x00\\\\x00\\'\\np13\\ntp14\\nb.'"
      ]
     },
     "execution_count": 43,
     "metadata": {},
     "output_type": "execute_result"
    }
   ],
   "source": [
    "df.loc[0,1]"
   ]
  },
  {
   "cell_type": "code",
   "execution_count": 24,
   "metadata": {
    "collapsed": true
   },
   "outputs": [],
   "source": [
    "with open('data.csv', 'a') as f:\n",
    "    df.to_csv(f, header=False)"
   ]
  },
  {
   "cell_type": "code",
   "execution_count": 1,
   "metadata": {
    "collapsed": true
   },
   "outputs": [],
   "source": [
    "import pandas as pd\n",
    "df_res = pd.read_csv(\"data.csv\", header=None)"
   ]
  },
  {
   "cell_type": "code",
   "execution_count": 2,
   "metadata": {
    "collapsed": false,
    "scrolled": true
   },
   "outputs": [],
   "source": [
    "import pickle\n",
    "images = pickle.loads(df_res.loc[0,1])"
   ]
  },
  {
   "cell_type": "code",
   "execution_count": 3,
   "metadata": {
    "collapsed": false
   },
   "outputs": [],
   "source": [
    "index = pickle.loads(df_res.loc[0,2])\n",
    "actions = pickle.loads(df_res.loc[0,3])\n",
    "actions_new = pickle.loads(df_res.loc[0,4])"
   ]
  },
  {
   "cell_type": "code",
   "execution_count": 4,
   "metadata": {
    "collapsed": false
   },
   "outputs": [
    {
     "name": "stdout",
     "output_type": "stream",
     "text": [
      "env: THEANO_FLAGS='floatX=float32'\n"
     ]
    }
   ],
   "source": [
    "%env THEANO_FLAGS='floatX=float32'\n",
    "import os\n",
    "if type(os.environ.get(\"DISPLAY\")) is not str or len(os.environ.get(\"DISPLAY\"))==0:\n",
    "    !bash ../xvfb start\n",
    "    %env DISPLAY=:1"
   ]
  },
  {
   "cell_type": "code",
   "execution_count": 5,
   "metadata": {
    "collapsed": false
   },
   "outputs": [
    {
     "name": "stderr",
     "output_type": "stream",
     "text": [
      "Using gpu device 0: GeForce GTX 970 (CNMeM is enabled with initial size: 85.0% of memory, cuDNN 4007)\n"
     ]
    }
   ],
   "source": [
    "import gym\n",
    "import numpy as np, pandas as pd\n",
    "import matplotlib.pyplot as plt\n",
    "import theano.tensor as T\n",
    "import theano\n",
    "%matplotlib inline"
   ]
  },
  {
   "cell_type": "code",
   "execution_count": 6,
   "metadata": {
    "collapsed": false
   },
   "outputs": [
    {
     "name": "stdout",
     "output_type": "stream",
     "text": [
      "((3509, 80, 80), (3509, 4))\n"
     ]
    }
   ],
   "source": [
    "images = pickle.loads(df_res.loc[0,1])\n",
    "images = np.rot90(np.flip(np.swapaxes(np.swapaxes(images, 2,0), 0,1),1),k=3)\n",
    "print(images.shape,actions_new.shape)"
   ]
  },
  {
   "cell_type": "code",
   "execution_count": 7,
   "metadata": {
    "collapsed": false
   },
   "outputs": [
    {
     "data": {
      "text/plain": [
       "(1596, 80, 80)"
      ]
     },
     "execution_count": 7,
     "metadata": {},
     "output_type": "execute_result"
    }
   ],
   "source": [
    "sub_action = actions_new[actions_new[:,0] == 0, :]\n",
    "sub_image = images[actions_new[:,0] == 0, :]\n",
    "sub_image.shape"
   ]
  },
  {
   "cell_type": "code",
   "execution_count": 8,
   "metadata": {
    "collapsed": false
   },
   "outputs": [],
   "source": [
    "import lasagne\n",
    "\n",
    "input_X = T.tensor4(\"X\")\n",
    "\n",
    "#размерность входа (None означает \"может изменяться\")\n",
    "input_shape = (1,80,80)\n",
    "\n",
    "target_y = T.fmatrix(\"target Y integer\")\n",
    "output_shape = [None,4]"
   ]
  },
  {
   "cell_type": "code",
   "execution_count": 9,
   "metadata": {
    "collapsed": false
   },
   "outputs": [],
   "source": [
    "# #входной слой (вспомогательный)\n",
    "# input_layer = lasagne.layers.InputLayer(shape = input_shape,input_var=input_X)\n",
    "\n",
    "# #полносвязный слой, который принимает на вход input layer и имеет 100 нейронов.\n",
    "# # нелинейная функция - сигмоида как в логистической регрессии\n",
    "# # слоям тоже можно давать имена, но это необязательно\n",
    "# dense_1 = lasagne.layers.DenseLayer(input_layer,num_units=50,\n",
    "#                                    nonlinearity = lasagne.nonlinearities.sigmoid,\n",
    "#                                    name = \"hidden_dense_layer\")\n",
    "\n",
    "# #ВЫХОДНОЙ полносвязный слой, который принимает на вход dense_1 и имеет 10 нейронов -по нейрону на цифру\n",
    "# #нелинейность - softmax - чтобы вероятности всех цифр давали в сумме 1\n",
    "# dense_output = lasagne.layers.DenseLayer(dense_1,num_units = 4,\n",
    "#                                         nonlinearity = lasagne.nonlinearities.softmax,\n",
    "#                                         name='output')"
   ]
  },
  {
   "cell_type": "code",
   "execution_count": 10,
   "metadata": {
    "collapsed": false
   },
   "outputs": [],
   "source": [
    "from lasagne.init import GlorotUniform, Constant\n",
    "from lasagne.layers import Conv2DLayer, InputLayer, DenseLayer, MaxPool2DLayer, get_output, get_all_params, \\\n",
    "    get_all_param_values, set_all_param_values\n",
    "from lasagne.nonlinearities import rectify\n",
    "from lasagne.objectives import squared_error\n",
    "from lasagne.updates import rmsprop\n",
    "\n",
    "input_layer = InputLayer(shape = (None,)+input_shape,input_var=input_X)\n",
    "\n",
    "# Adds 3 convolutional layers, each followed by a max pooling layer.\n",
    "dqn = Conv2DLayer(input_layer, num_filters=32, filter_size=[8, 8],\n",
    "                  nonlinearity=rectify, W=GlorotUniform(\"relu\"),\n",
    "                  b=Constant(.1))\n",
    "dqn = MaxPool2DLayer(dqn, pool_size=[2, 2])\n",
    "dqn = Conv2DLayer(dqn, num_filters=64, filter_size=[4, 4],\n",
    "                  nonlinearity=rectify, W=GlorotUniform(\"relu\"),\n",
    "                  b=Constant(.1))\n",
    "\n",
    "dqn = MaxPool2DLayer(dqn, pool_size=[2, 2])\n",
    "dqn = Conv2DLayer(dqn, num_filters=64, filter_size=[3, 3],\n",
    "                  nonlinearity=rectify, W=GlorotUniform(\"relu\"),\n",
    "                  b=Constant(.1))\n",
    "dqn = MaxPool2DLayer(dqn, pool_size=[2, 2])\n",
    "# Adds a single fully connected layer.\n",
    "dqn = DenseLayer(dqn, num_units=512, nonlinearity=rectify, W=GlorotUniform(\"relu\"),\n",
    "                 b=Constant(.1))\n",
    "\n",
    "# Adds a single fully connected layer which is the output layer.\n",
    "# (no nonlinearity as it is for approximating an arbitrary real function)\n",
    "dense_output = DenseLayer(dqn,num_units = 4,\n",
    "                                        nonlinearity = lasagne.nonlinearities.softmax,\n",
    "                                        name='output')"
   ]
  },
  {
   "cell_type": "code",
   "execution_count": 11,
   "metadata": {
    "collapsed": true
   },
   "outputs": [],
   "source": [
    "#предсказание нейронки (theano-преобразование)\n",
    "y_predicted = lasagne.layers.get_output(dense_output)"
   ]
  },
  {
   "cell_type": "code",
   "execution_count": 12,
   "metadata": {
    "collapsed": false
   },
   "outputs": [
    {
     "name": "stdout",
     "output_type": "stream",
     "text": [
      "[W, b, W, b, W, b, W, b, output.W, output.b]\n"
     ]
    }
   ],
   "source": [
    "#все веса нейронки (shared-переменные)\n",
    "all_weights = lasagne.layers.get_all_params(dense_output)\n",
    "print (all_weights)"
   ]
  },
  {
   "cell_type": "code",
   "execution_count": 90,
   "metadata": {
    "collapsed": false
   },
   "outputs": [
    {
     "name": "stderr",
     "output_type": "stream",
     "text": [
      "/home/user/anaconda2/lib/python2.7/site-packages/ipykernel/__main__.py:5: UserWarning: You are creating a TensorVariable with float64 dtype. You requested an action via the Theano flag warn_float64={ignore,warn,raise,pdb}.\n"
     ]
    }
   ],
   "source": [
    "#функция ошибки - средняя кроссэнтропия\n",
    "loss = lasagne.objectives.squared_error(y_predicted,target_y).mean()\n",
    "# loss = ((y_predicted - target_y)**2).sum()\n",
    "\n",
    "accuracy = lasagne.objectives.binary_accuracy(y_predicted,target_y).mean()\n",
    "\n",
    "# #сразу посчитать словарь обновлённых значений с шагом по градиенту, как раньше\n",
    "updates_sgd = lasagne.updates.sgd(loss, all_weights,learning_rate=0)"
   ]
  },
  {
   "cell_type": "code",
   "execution_count": 91,
   "metadata": {
    "collapsed": false
   },
   "outputs": [],
   "source": [
    "#функция, которая обучает сеть на 1 шаг и возвращащет значение функции потерь и точности\n",
    "train_fun = theano.function([input_X,target_y],[loss,accuracy,y_predicted],updates= updates_sgd, allow_input_downcast=True)\n",
    "\n",
    "#функция, которая считает точность\n",
    "accuracy_fun = theano.function([input_X],y_predicted, allow_input_downcast=True)"
   ]
  },
  {
   "cell_type": "code",
   "execution_count": 92,
   "metadata": {
    "collapsed": false
   },
   "outputs": [
    {
     "data": {
      "text/plain": [
       "array([[ 0.06092016,  0.07931311,  0.83562809,  0.02413866]], dtype=float32)"
      ]
     },
     "execution_count": 92,
     "metadata": {},
     "output_type": "execute_result"
    }
   ],
   "source": [
    "accuracy_fun(np.random.rand(1,1,80,80))"
   ]
  },
  {
   "cell_type": "code",
   "execution_count": 96,
   "metadata": {
    "collapsed": false
   },
   "outputs": [
    {
     "data": {
      "text/plain": [
       "array([[ 0.,  0.,  1.,  0.]], dtype=float32)"
      ]
     },
     "execution_count": 96,
     "metadata": {},
     "output_type": "execute_result"
    }
   ],
   "source": [
    "accuracy_fun([[images[2390]]])"
   ]
  },
  {
   "cell_type": "code",
   "execution_count": 98,
   "metadata": {
    "collapsed": false
   },
   "outputs": [
    {
     "ename": "AttributeError",
     "evalue": "'list' object has no attribute 'shape'",
     "output_type": "error",
     "traceback": [
      "\u001b[1;31m---------------------------------------------------------------------------\u001b[0m",
      "\u001b[1;31mAttributeError\u001b[0m                            Traceback (most recent call last)",
      "\u001b[1;32m<ipython-input-98-b36a98afa22f>\u001b[0m in \u001b[0;36m<module>\u001b[1;34m()\u001b[0m\n\u001b[1;32m----> 1\u001b[1;33m \u001b[1;33m[\u001b[0m\u001b[1;33m[\u001b[0m\u001b[0mimages\u001b[0m\u001b[1;33m[\u001b[0m\u001b[1;36m2390\u001b[0m\u001b[1;33m]\u001b[0m\u001b[1;33m]\u001b[0m\u001b[1;33m]\u001b[0m\u001b[1;33m.\u001b[0m\u001b[0mshape\u001b[0m\u001b[1;33m(\u001b[0m\u001b[1;33m)\u001b[0m\u001b[1;33m\u001b[0m\u001b[0m\n\u001b[0m",
      "\u001b[1;31mAttributeError\u001b[0m: 'list' object has no attribute 'shape'"
     ]
    }
   ],
   "source": [
    "[[images[2390]]].shape()"
   ]
  },
  {
   "cell_type": "code",
   "execution_count": 81,
   "metadata": {
    "collapsed": false
   },
   "outputs": [
    {
     "data": {
      "text/plain": [
       "array([[[  65.,   56.,   61., ...,   60.,   57.,   45.],\n",
       "        [  63.,   53.,   35., ...,   88.,   74.,   50.],\n",
       "        [  72.,   53.,   22., ...,  142.,  119.,   35.],\n",
       "        ..., \n",
       "        [  60.,   74.,   52., ...,   93.,  107.,   38.],\n",
       "        [  67.,   62.,   26., ...,   75.,   59.,   32.],\n",
       "        [  79.,   52.,   24., ...,   73.,   43.,   17.]]])"
      ]
     },
     "execution_count": 81,
     "metadata": {},
     "output_type": "execute_result"
    }
   ],
   "source": [
    "np.expand_dims(sub_image, axis=1)[0]"
   ]
  },
  {
   "cell_type": "code",
   "execution_count": 15,
   "metadata": {
    "collapsed": false
   },
   "outputs": [
    {
     "data": {
      "text/plain": [
       "<matplotlib.image.AxesImage at 0x7f8295642210>"
      ]
     },
     "execution_count": 15,
     "metadata": {},
     "output_type": "execute_result"
    },
    {
     "data": {
      "image/png": "[encoded data removed]",
      "text/plain": [
       "<matplotlib.figure.Figure at 0x7f82d92e4690>"
      ]
     },
     "metadata": {},
     "output_type": "display_data"
    }
   ],
   "source": [
    "plt.imshow(images[550])"
   ]
  },
  {
   "cell_type": "code",
   "execution_count": 32,
   "metadata": {
    "collapsed": false
   },
   "outputs": [],
   "source": [
    "def iterate_minibatches(inputs, targets, batchsize, shuffle=False):\n",
    "    print(\"length input {} length targ {}\".format(len(inputs), len(targets)))\n",
    "    assert len(inputs) == len(targets)\n",
    "    if shuffle:\n",
    "        indices = np.arange(len(inputs))\n",
    "        np.random.shuffle(indices)\n",
    "    for start_idx in range(0, len(inputs) - batchsize + 1, batchsize):\n",
    "        if shuffle:\n",
    "            excerpt = indices[start_idx:start_idx + batchsize]\n",
    "        else:\n",
    "            excerpt = slice(start_idx, start_idx + batchsize)\n",
    "        yield inputs[excerpt], targets[excerpt]"
   ]
  },
  {
   "cell_type": "code",
   "execution_count": 26,
   "metadata": {
    "collapsed": false
   },
   "outputs": [
    {
     "data": {
      "text/plain": [
       "True"
      ]
     },
     "execution_count": 26,
     "metadata": {},
     "output_type": "execute_result"
    }
   ],
   "source": [
    "images_4 = np.expand_dims(sub_image, axis=1)\n",
    "actions_4 = np.expand_dims(sub_action, axis=1)\n",
    "len(images_4) == len(sub_action)"
   ]
  },
  {
   "cell_type": "code",
   "execution_count": 60,
   "metadata": {
    "collapsed": false,
    "scrolled": false
   },
   "outputs": [
    {
     "name": "stdout",
     "output_type": "stream",
     "text": [
      "length input 3509 length targ 3509\n",
      "Epoch 1 of 1000 took 1.160s\n",
      "  training loss (in-iteration):\t\t0.415714\n",
      "  train accuracy:\t\t58.43 %\n",
      "length input 3509 length targ 3509\n",
      "Epoch 2 of 1000 took 1.244s\n",
      "  training loss (in-iteration):\t\t0.415714\n",
      "  train accuracy:\t\t58.43 %\n",
      "length input 3509 length targ 3509\n",
      "Epoch 3 of 1000 took 1.282s\n",
      "  training loss (in-iteration):\t\t0.415714\n",
      "  train accuracy:\t\t58.43 %\n",
      "length input 3509 length targ 3509\n",
      "Epoch 4 of 1000 took 1.263s\n",
      "  training loss (in-iteration):\t\t0.415714\n",
      "  train accuracy:\t\t58.43 %\n",
      "length input 3509 length targ 3509\n",
      "Epoch 5 of 1000 took 1.245s\n",
      "  training loss (in-iteration):\t\t0.415714\n",
      "  train accuracy:\t\t58.43 %\n",
      "length input 3509 length targ 3509\n",
      "Epoch 6 of 1000 took 1.247s\n",
      "  training loss (in-iteration):\t\t0.415714\n",
      "  train accuracy:\t\t58.43 %\n",
      "length input 3509 length targ 3509\n"
     ]
    },
    {
     "ename": "KeyboardInterrupt",
     "evalue": "",
     "output_type": "error",
     "traceback": [
      "\u001b[1;31m---------------------------------------------------------------------------\u001b[0m",
      "\u001b[1;31mKeyboardInterrupt\u001b[0m                         Traceback (most recent call last)",
      "\u001b[1;32m<ipython-input-60-b836a00a114d>\u001b[0m in \u001b[0;36m<module>\u001b[1;34m()\u001b[0m\n\u001b[0;32m     14\u001b[0m     \u001b[1;32mfor\u001b[0m \u001b[0mbatch\u001b[0m \u001b[1;32min\u001b[0m \u001b[0miterate_minibatches\u001b[0m\u001b[1;33m(\u001b[0m\u001b[0mnp\u001b[0m\u001b[1;33m.\u001b[0m\u001b[0mexpand_dims\u001b[0m\u001b[1;33m(\u001b[0m\u001b[0mimages\u001b[0m\u001b[1;33m,\u001b[0m \u001b[0maxis\u001b[0m\u001b[1;33m=\u001b[0m\u001b[1;36m1\u001b[0m\u001b[1;33m)\u001b[0m\u001b[1;33m,\u001b[0m \u001b[0mactions_new\u001b[0m\u001b[1;33m,\u001b[0m\u001b[0mbatch_size\u001b[0m\u001b[1;33m)\u001b[0m\u001b[1;33m:\u001b[0m\u001b[1;33m\u001b[0m\u001b[0m\n\u001b[0;32m     15\u001b[0m         \u001b[0minputs\u001b[0m\u001b[1;33m,\u001b[0m \u001b[0mtargets\u001b[0m \u001b[1;33m=\u001b[0m \u001b[0mbatch\u001b[0m\u001b[1;33m\u001b[0m\u001b[0m\n\u001b[1;32m---> 16\u001b[1;33m         \u001b[0mtrain_err_batch\u001b[0m\u001b[1;33m,\u001b[0m \u001b[0mtrain_acc_batch\u001b[0m\u001b[1;33m,\u001b[0m \u001b[0my_pred\u001b[0m\u001b[1;33m=\u001b[0m \u001b[0mtrain_fun\u001b[0m\u001b[1;33m(\u001b[0m\u001b[0minputs\u001b[0m\u001b[1;33m,\u001b[0m \u001b[0mtargets\u001b[0m\u001b[1;33m)\u001b[0m\u001b[1;33m\u001b[0m\u001b[0m\n\u001b[0m\u001b[0;32m     17\u001b[0m         \u001b[0mtrain_err\u001b[0m \u001b[1;33m+=\u001b[0m \u001b[0mtrain_err_batch\u001b[0m\u001b[1;33m\u001b[0m\u001b[0m\n\u001b[0;32m     18\u001b[0m         \u001b[0mtrain_acc\u001b[0m \u001b[1;33m+=\u001b[0m \u001b[0mtrain_acc_batch\u001b[0m\u001b[1;33m\u001b[0m\u001b[0m\n",
      "\u001b[1;32m/home/user/anaconda2/lib/python2.7/site-packages/theano/compile/function_module.pyc\u001b[0m in \u001b[0;36m__call__\u001b[1;34m(self, *args, **kwargs)\u001b[0m\n\u001b[0;32m    897\u001b[0m         \u001b[1;32mtry\u001b[0m\u001b[1;33m:\u001b[0m\u001b[1;33m\u001b[0m\u001b[0m\n\u001b[0;32m    898\u001b[0m             \u001b[0moutputs\u001b[0m \u001b[1;33m=\u001b[0m\u001b[0;31m\\\u001b[0m\u001b[1;33m\u001b[0m\u001b[0m\n\u001b[1;32m--> 899\u001b[1;33m                 \u001b[0mself\u001b[0m\u001b[1;33m.\u001b[0m\u001b[0mfn\u001b[0m\u001b[1;33m(\u001b[0m\u001b[1;33m)\u001b[0m \u001b[1;32mif\u001b[0m \u001b[0moutput_subset\u001b[0m \u001b[1;32mis\u001b[0m \u001b[0mNone\u001b[0m \u001b[1;32melse\u001b[0m\u001b[0;31m\\\u001b[0m\u001b[1;33m\u001b[0m\u001b[0m\n\u001b[0m\u001b[0;32m    900\u001b[0m                 \u001b[0mself\u001b[0m\u001b[1;33m.\u001b[0m\u001b[0mfn\u001b[0m\u001b[1;33m(\u001b[0m\u001b[0moutput_subset\u001b[0m\u001b[1;33m=\u001b[0m\u001b[0moutput_subset\u001b[0m\u001b[1;33m)\u001b[0m\u001b[1;33m\u001b[0m\u001b[0m\n\u001b[0;32m    901\u001b[0m         \u001b[1;32mexcept\u001b[0m \u001b[0mException\u001b[0m\u001b[1;33m:\u001b[0m\u001b[1;33m\u001b[0m\u001b[0m\n",
      "\u001b[1;31mKeyboardInterrupt\u001b[0m: "
     ]
    }
   ],
   "source": [
    "images_4 = np.expand_dims(images, axis=1)\n",
    "import time\n",
    "\n",
    "num_epochs = 1000 #количество проходов по данным\n",
    "\n",
    "batch_size = 500 #размер мини-батча\n",
    "\n",
    "for epoch in range(num_epochs):\n",
    "    # In each epoch, we do a full pass over the training data:\n",
    "    train_err = 0\n",
    "    train_acc = 0\n",
    "    train_batches = 0\n",
    "    start_time = time.time()\n",
    "    for batch in iterate_minibatches(np.expand_dims(images, axis=1), actions_new,batch_size):\n",
    "        inputs, targets = batch\n",
    "        train_err_batch, train_acc_batch, y_pred= train_fun(inputs, targets)\n",
    "        train_err += train_err_batch\n",
    "        train_acc += train_acc_batch\n",
    "        train_batches += 1\n",
    "\n",
    "#     # And a full pass over the validation data:\n",
    "#     val_acc = 0\n",
    "#     val_batches = 0\n",
    "#     for batch in iterate_minibatches(X_val, y_val, batch_size):\n",
    "#         inputs, targets = batch\n",
    "#         val_acc += accuracy_fun(inputs, targets)\n",
    "#         val_batches += 1\n",
    "\n",
    "    \n",
    "    # Then we print the results for this epoch:\n",
    "    print(\"Epoch {} of {} took {:.3f}s\".format(\n",
    "        epoch + 1, num_epochs, time.time() - start_time))\n",
    "\n",
    "    print(\"  training loss (in-iteration):\\t\\t{:.6f}\".format(train_err / train_batches))\n",
    "    print(\"  train accuracy:\\t\\t{:.2f} %\".format(\n",
    "        train_acc / train_batches * 100))\n",
    "#     print(\"  validation accuracy:\\t\\t{:.2f} %\".format(\n",
    "#         val_acc / val_batches * 100))"
   ]
  },
  {
   "cell_type": "code",
   "execution_count": 73,
   "metadata": {
    "collapsed": false
   },
   "outputs": [
    {
     "data": {
      "text/plain": [
       "6191"
      ]
     },
     "execution_count": 73,
     "metadata": {},
     "output_type": "execute_result"
    }
   ],
   "source": [
    "(inputs[1] == inputs[300]).sum()"
   ]
  },
  {
   "cell_type": "code",
   "execution_count": 68,
   "metadata": {
    "collapsed": false
   },
   "outputs": [
    {
     "data": {
      "text/plain": [
       "array([[  41.,   65.,   51., ...,   60.,   57.,   45.],\n",
       "       [  49.,   64.,   30., ...,   88.,   74.,   50.],\n",
       "       [  68.,   64.,   30., ...,  142.,  119.,   35.],\n",
       "       ..., \n",
       "       [  39.,   70.,   67., ...,   93.,  107.,   38.],\n",
       "       [  45.,   77.,   38., ...,   75.,   59.,   32.],\n",
       "       [  70.,   71.,   28., ...,   73.,   43.,   17.]])"
      ]
     },
     "execution_count": 68,
     "metadata": {},
     "output_type": "execute_result"
    }
   ],
   "source": [
    "inputs[239].reshape(80,80)"
   ]
  },
  {
   "cell_type": "code",
   "execution_count": 267,
   "metadata": {
    "collapsed": false
   },
   "outputs": [
    {
     "data": {
      "text/plain": [
       "(50, 4)"
      ]
     },
     "execution_count": 267,
     "metadata": {},
     "output_type": "execute_result"
    }
   ],
   "source": [
    "targets.shape"
   ]
  },
  {
   "cell_type": "code",
   "execution_count": 76,
   "metadata": {
    "collapsed": true
   },
   "outputs": [],
   "source": [
    "n_actions = 4\n",
    "state_dim = (80,80)"
   ]
  },
  {
   "cell_type": "code",
   "execution_count": 46,
   "metadata": {
    "collapsed": false
   },
   "outputs": [],
   "source": [
    "import theano\n",
    "from theano import *\n",
    "import theano.tensor as T\n",
    "\n",
    "#create input variables. We'll support multiple states at once\n",
    "\n",
    "\n",
    "current_states = T.matrix(\"states[batch,units]\")\n",
    "actions = T.ivector(\"action_ids[batch]\")\n",
    "rewards = T.vector(\"rewards[batch]\")\n",
    "next_states = T.matrix(\"next states[batch,units]\")\n",
    "is_end = T.ivector(\"vector[batch] where 1 means that session just ended\")"
   ]
  },
  {
   "cell_type": "code",
   "execution_count": 47,
   "metadata": {
    "collapsed": true
   },
   "outputs": [],
   "source": [
    "import lasagne\n",
    "from lasagne.layers import *\n",
    "\n",
    "#input layer\n",
    "l_states = InputLayer((80,80))\n",
    "\n",
    "dense_1 = DenseLayer(l_states,num_units=100,\n",
    "                                   name = \"hidden_dense_layer\")\n",
    "#output layer\n",
    "l_qvalues = DenseLayer(dense_1,num_units=n_actions,nonlinearity=None)\n",
    "predicted_qvalues = get_output(l_qvalues,{l_states:current_states})"
   ]
  },
  {
   "cell_type": "code",
   "execution_count": 48,
   "metadata": {
    "collapsed": false
   },
   "outputs": [],
   "source": [
    "#get q-values for ALL actions in current_states\n",
    "\n",
    "#compiling agent's \"GetQValues\" function\n",
    "get_qvalues = theano.function([current_states], predicted_qvalues,\n",
    "    allow_input_downcast=True)\n",
    "#select q-values for chosen actions\n",
    "predicted_qvalues_for_actions = predicted_qvalues[T.arange(actions.shape[0]),actions]"
   ]
  },
  {
   "cell_type": "code",
   "execution_count": 49,
   "metadata": {
    "collapsed": true
   },
   "outputs": [],
   "source": [
    "target_qvalues_for_actions = T.matrix(\"our actions\")\n",
    "my_inputs = {\n",
    "    target_qvalues_for_actions: actions_new\n",
    "}"
   ]
  },
  {
   "cell_type": "code",
   "execution_count": 50,
   "metadata": {
    "collapsed": false
   },
   "outputs": [],
   "source": [
    "#predict q-values for next states\n",
    "predicted_next_qvalues = get_output(l_qvalues,{l_states:next_states})\n",
    "\n",
    "\n",
    "#Computing target q-values under \n",
    "gamma = 0.99\n",
    "# target_qvalues_for_actions = rewards + gamma* predicted_next_qvalues.max(axis= 1)\n",
    "    \n",
    "# #zero-out q-values at the end\n",
    "# target_qvalues_for_actions = (1-is_end)*target_qvalues_for_actions\n",
    "\n",
    "# #don't compute gradient over target q-values (consider constant)\n",
    "# target_qvalues_for_actions = theano.gradient.disconnected_grad(target_qvalues_for_actions)"
   ]
  },
  {
   "cell_type": "code",
   "execution_count": 51,
   "metadata": {
    "collapsed": false
   },
   "outputs": [],
   "source": [
    "# target_qvalues_for_actions = T.matrix(\"our actions values\")\n",
    "#mean squared error loss function\n",
    "loss = T.mean((predicted_qvalues_for_actions - target_qvalues_for_actions) ** 2)\n"
   ]
  },
  {
   "cell_type": "code",
   "execution_count": 52,
   "metadata": {
    "collapsed": false
   },
   "outputs": [],
   "source": [
    "#all network weights\n",
    "all_weights = get_all_params(l_qvalues,trainable=True)\n",
    "\n",
    "#network updates. Note the small learning rate (for stability)\n",
    "updates = lasagne.updates.sgd(loss,all_weights,learning_rate=1e-4)"
   ]
  },
  {
   "cell_type": "code",
   "execution_count": 53,
   "metadata": {
    "collapsed": false,
    "scrolled": true
   },
   "outputs": [
    {
     "ename": "UnusedInputError",
     "evalue": "theano.function was asked to create a function computing outputs given certain inputs, but the provided input variable at index 2 is not part of the computational graph needed to compute the outputs: next states[batch,units].\nTo make this error into a warning, you can pass the parameter on_unused_input='warn' to theano.function. To disable it completely, use on_unused_input='ignore'.",
     "output_type": "error",
     "traceback": [
      "\u001b[1;31m---------------------------------------------------------------------------\u001b[0m",
      "\u001b[1;31mUnusedInputError\u001b[0m                          Traceback (most recent call last)",
      "\u001b[1;32m<ipython-input-53-510d27eb2f1d>\u001b[0m in \u001b[0;36m<module>\u001b[1;34m()\u001b[0m\n\u001b[0;32m      3\u001b[0m train_step = theano.function([current_states,actions,next_states,is_end],\n\u001b[0;32m      4\u001b[0m     \u001b[0mallow_input_downcast\u001b[0m\u001b[1;33m=\u001b[0m\u001b[0mTrue\u001b[0m\u001b[1;33m,\u001b[0m\u001b[1;33m\u001b[0m\u001b[0m\n\u001b[1;32m----> 5\u001b[1;33m                              updates=updates)\n\u001b[0m",
      "\u001b[1;32m/home/user/anaconda2/lib/python2.7/site-packages/theano/compile/function.pyc\u001b[0m in \u001b[0;36mfunction\u001b[1;34m(inputs, outputs, mode, updates, givens, no_default_updates, accept_inplace, name, rebuild_strict, allow_input_downcast, profile, on_unused_input)\u001b[0m\n\u001b[0;32m    320\u001b[0m                    \u001b[0mon_unused_input\u001b[0m\u001b[1;33m=\u001b[0m\u001b[0mon_unused_input\u001b[0m\u001b[1;33m,\u001b[0m\u001b[1;33m\u001b[0m\u001b[0m\n\u001b[0;32m    321\u001b[0m                    \u001b[0mprofile\u001b[0m\u001b[1;33m=\u001b[0m\u001b[0mprofile\u001b[0m\u001b[1;33m,\u001b[0m\u001b[1;33m\u001b[0m\u001b[0m\n\u001b[1;32m--> 322\u001b[1;33m                    output_keys=output_keys)\n\u001b[0m\u001b[0;32m    323\u001b[0m     \u001b[1;31m# We need to add the flag check_aliased inputs if we have any mutable or\u001b[0m\u001b[1;33m\u001b[0m\u001b[1;33m\u001b[0m\u001b[0m\n\u001b[0;32m    324\u001b[0m     \u001b[1;31m# borrowed used defined inputs\u001b[0m\u001b[1;33m\u001b[0m\u001b[1;33m\u001b[0m\u001b[0m\n",
      "\u001b[1;32m/home/user/anaconda2/lib/python2.7/site-packages/theano/compile/pfunc.pyc\u001b[0m in \u001b[0;36mpfunc\u001b[1;34m(params, outputs, mode, updates, givens, no_default_updates, accept_inplace, name, rebuild_strict, allow_input_downcast, profile, on_unused_input, output_keys)\u001b[0m\n\u001b[0;32m    478\u001b[0m                          \u001b[0maccept_inplace\u001b[0m\u001b[1;33m=\u001b[0m\u001b[0maccept_inplace\u001b[0m\u001b[1;33m,\u001b[0m \u001b[0mname\u001b[0m\u001b[1;33m=\u001b[0m\u001b[0mname\u001b[0m\u001b[1;33m,\u001b[0m\u001b[1;33m\u001b[0m\u001b[0m\n\u001b[0;32m    479\u001b[0m                          \u001b[0mprofile\u001b[0m\u001b[1;33m=\u001b[0m\u001b[0mprofile\u001b[0m\u001b[1;33m,\u001b[0m \u001b[0mon_unused_input\u001b[0m\u001b[1;33m=\u001b[0m\u001b[0mon_unused_input\u001b[0m\u001b[1;33m,\u001b[0m\u001b[1;33m\u001b[0m\u001b[0m\n\u001b[1;32m--> 480\u001b[1;33m                          output_keys=output_keys)\n\u001b[0m\u001b[0;32m    481\u001b[0m \u001b[1;33m\u001b[0m\u001b[0m\n\u001b[0;32m    482\u001b[0m \u001b[1;33m\u001b[0m\u001b[0m\n",
      "\u001b[1;32m/home/user/anaconda2/lib/python2.7/site-packages/theano/compile/function_module.pyc\u001b[0m in \u001b[0;36morig_function\u001b[1;34m(inputs, outputs, mode, accept_inplace, name, profile, on_unused_input, output_keys)\u001b[0m\n\u001b[0;32m   1825\u001b[0m                    \u001b[0mprofile\u001b[0m\u001b[1;33m=\u001b[0m\u001b[0mprofile\u001b[0m\u001b[1;33m,\u001b[0m\u001b[1;33m\u001b[0m\u001b[0m\n\u001b[0;32m   1826\u001b[0m                    \u001b[0mon_unused_input\u001b[0m\u001b[1;33m=\u001b[0m\u001b[0mon_unused_input\u001b[0m\u001b[1;33m,\u001b[0m\u001b[1;33m\u001b[0m\u001b[0m\n\u001b[1;32m-> 1827\u001b[1;33m                    \u001b[0moutput_keys\u001b[0m\u001b[1;33m=\u001b[0m\u001b[0moutput_keys\u001b[0m\u001b[1;33m)\u001b[0m\u001b[1;33m.\u001b[0m\u001b[0mcreate\u001b[0m\u001b[1;33m(\u001b[0m\u001b[1;33m\u001b[0m\u001b[0m\n\u001b[0m\u001b[0;32m   1828\u001b[0m             defaults)\n\u001b[0;32m   1829\u001b[0m \u001b[1;33m\u001b[0m\u001b[0m\n",
      "\u001b[1;32m/home/user/anaconda2/lib/python2.7/site-packages/theano/compile/function_module.pyc\u001b[0m in \u001b[0;36m__init__\u001b[1;34m(self, inputs, outputs, mode, accept_inplace, function_builder, profile, on_unused_input, fgraph, output_keys)\u001b[0m\n\u001b[0;32m   1464\u001b[0m \u001b[1;33m\u001b[0m\u001b[0m\n\u001b[0;32m   1465\u001b[0m         \u001b[1;31m# Check if some input variables are unused\u001b[0m\u001b[1;33m\u001b[0m\u001b[1;33m\u001b[0m\u001b[0m\n\u001b[1;32m-> 1466\u001b[1;33m         \u001b[0mself\u001b[0m\u001b[1;33m.\u001b[0m\u001b[0m_check_unused_inputs\u001b[0m\u001b[1;33m(\u001b[0m\u001b[0minputs\u001b[0m\u001b[1;33m,\u001b[0m \u001b[0moutputs\u001b[0m\u001b[1;33m,\u001b[0m \u001b[0mon_unused_input\u001b[0m\u001b[1;33m)\u001b[0m\u001b[1;33m\u001b[0m\u001b[0m\n\u001b[0m\u001b[0;32m   1467\u001b[0m \u001b[1;33m\u001b[0m\u001b[0m\n\u001b[0;32m   1468\u001b[0m         \u001b[1;31m# Make a list of (SymbolicInput|SymblicInputKits, indices,\u001b[0m\u001b[1;33m\u001b[0m\u001b[1;33m\u001b[0m\u001b[0m\n",
      "\u001b[1;32m/home/user/anaconda2/lib/python2.7/site-packages/theano/compile/function_module.pyc\u001b[0m in \u001b[0;36m_check_unused_inputs\u001b[1;34m(self, inputs, outputs, on_unused_input)\u001b[0m\n\u001b[0;32m   1602\u001b[0m                 \u001b[1;32melif\u001b[0m \u001b[0mon_unused_input\u001b[0m \u001b[1;33m==\u001b[0m \u001b[1;34m'raise'\u001b[0m\u001b[1;33m:\u001b[0m\u001b[1;33m\u001b[0m\u001b[0m\n\u001b[0;32m   1603\u001b[0m                     raise UnusedInputError(msg % (inputs.index(i),\n\u001b[1;32m-> 1604\u001b[1;33m                                                   i.variable, err_msg))\n\u001b[0m\u001b[0;32m   1605\u001b[0m                 \u001b[1;32melse\u001b[0m\u001b[1;33m:\u001b[0m\u001b[1;33m\u001b[0m\u001b[0m\n\u001b[0;32m   1606\u001b[0m                     raise ValueError(\"Invalid value for keyword \"\n",
      "\u001b[1;31mUnusedInputError\u001b[0m: theano.function was asked to create a function computing outputs given certain inputs, but the provided input variable at index 2 is not part of the computational graph needed to compute the outputs: next states[batch,units].\nTo make this error into a warning, you can pass the parameter on_unused_input='warn' to theano.function. To disable it completely, use on_unused_input='ignore'."
     ]
    }
   ],
   "source": [
    "#Training function that resembles agent.update(state,action,reward,next_state) \n",
    "#with 1 more argument meaning is_end\n",
    "train_step = theano.function([current_states,actions,next_states,is_end],\n",
    "    allow_input_downcast=True,\n",
    "                             updates=updates)"
   ]
  },
  {
   "cell_type": "code",
   "execution_count": 31,
   "metadata": {
    "collapsed": false
   },
   "outputs": [],
   "source": [
    "epsilon = 0.25 #initial epsilon\n",
    "\n",
    "\n",
    "def generate_session( num   ,t_max=300):\n",
    "    \"\"\"play env with approximate q-learning agent and train it at the same time\"\"\"\n",
    "    \n",
    "#     for i in range()\n",
    "    total_reward = 0\n",
    "    s = images[:,:,index[num,0]]\n",
    "    \n",
    "    for t in range(index[num,0]+1, index[num,1] + 1):\n",
    "        \n",
    "        #get action q-values from the network\n",
    "        q_values = get_qvalues(s)[0] \n",
    "        \n",
    "        if( np.random.random() < epsilon):\n",
    "            a = np.random.choice(n_actions)\n",
    "        else:\n",
    "            a = np.argmax(q_values)\n",
    "        \n",
    "#         a = <sample action with epsilon-greedy strategy>\n",
    "        \n",
    "#         new_s,r,done,info = env.step(a)\n",
    "        new_s = images[:,:,t]\n",
    "#         r = rew_step[t]\n",
    "        \n",
    "        done = [(t == index[num,1] )]\n",
    "        \n",
    "        #train agent one step. Note that we use one-element arrays instead of scalars \n",
    "        #because that's what function accepts.\n",
    "        train_step([s],[a],[new_s],[done])\n",
    "        \n",
    "        total_reward+=r\n",
    "        \n",
    "        s = new_s\n",
    "#         if t = \n",
    "        if done: break\n",
    "            \n",
    "    return total_reward\n",
    "        "
   ]
  },
  {
   "cell_type": "code",
   "execution_count": 32,
   "metadata": {
    "collapsed": false
   },
   "outputs": [
    {
     "ename": "NameError",
     "evalue": "global name 'train_step' is not defined",
     "output_type": "error",
     "traceback": [
      "\u001b[1;31m---------------------------------------------------------------------------\u001b[0m",
      "\u001b[1;31mNameError\u001b[0m                                 Traceback (most recent call last)",
      "\u001b[1;32m<ipython-input-32-f44f2ad3d36a>\u001b[0m in \u001b[0;36m<module>\u001b[1;34m()\u001b[0m\n\u001b[0;32m      1\u001b[0m \u001b[1;31m# for i in range(100):\u001b[0m\u001b[1;33m\u001b[0m\u001b[1;33m\u001b[0m\u001b[0m\n\u001b[0;32m      2\u001b[0m \u001b[1;33m\u001b[0m\u001b[0m\n\u001b[1;32m----> 3\u001b[1;33m \u001b[0mrewards\u001b[0m \u001b[1;33m=\u001b[0m \u001b[1;33m[\u001b[0m\u001b[0mgenerate_session\u001b[0m\u001b[1;33m(\u001b[0m\u001b[0mnum\u001b[0m \u001b[1;33m=\u001b[0m \u001b[0mj\u001b[0m\u001b[1;33m)\u001b[0m \u001b[1;32mfor\u001b[0m \u001b[0mj\u001b[0m \u001b[1;32min\u001b[0m \u001b[0mrange\u001b[0m\u001b[1;33m(\u001b[0m\u001b[0mindex\u001b[0m\u001b[1;33m.\u001b[0m\u001b[0mshape\u001b[0m\u001b[1;33m[\u001b[0m\u001b[1;36m0\u001b[0m\u001b[1;33m]\u001b[0m\u001b[1;33m)\u001b[0m\u001b[1;33m]\u001b[0m \u001b[1;31m#generate new sessions\u001b[0m\u001b[1;33m\u001b[0m\u001b[0m\n\u001b[0m\u001b[0;32m      4\u001b[0m \u001b[1;33m\u001b[0m\u001b[0m\n\u001b[0;32m      5\u001b[0m \u001b[0mepsilon\u001b[0m\u001b[1;33m*=\u001b[0m\u001b[1;36m0.95\u001b[0m\u001b[1;33m\u001b[0m\u001b[0m\n",
      "\u001b[1;32m<ipython-input-31-b9c1bc64f57e>\u001b[0m in \u001b[0;36mgenerate_session\u001b[1;34m(num, t_max)\u001b[0m\n\u001b[0;32m     29\u001b[0m         \u001b[1;31m#train agent one step. Note that we use one-element arrays instead of scalars\u001b[0m\u001b[1;33m\u001b[0m\u001b[1;33m\u001b[0m\u001b[0m\n\u001b[0;32m     30\u001b[0m         \u001b[1;31m#because that's what function accepts.\u001b[0m\u001b[1;33m\u001b[0m\u001b[1;33m\u001b[0m\u001b[0m\n\u001b[1;32m---> 31\u001b[1;33m         \u001b[0mtrain_step\u001b[0m\u001b[1;33m(\u001b[0m\u001b[1;33m[\u001b[0m\u001b[0ms\u001b[0m\u001b[1;33m]\u001b[0m\u001b[1;33m,\u001b[0m\u001b[1;33m[\u001b[0m\u001b[0ma\u001b[0m\u001b[1;33m]\u001b[0m\u001b[1;33m,\u001b[0m\u001b[1;33m[\u001b[0m\u001b[0mnew_s\u001b[0m\u001b[1;33m]\u001b[0m\u001b[1;33m,\u001b[0m\u001b[1;33m[\u001b[0m\u001b[0mdone\u001b[0m\u001b[1;33m]\u001b[0m\u001b[1;33m)\u001b[0m\u001b[1;33m\u001b[0m\u001b[0m\n\u001b[0m\u001b[0;32m     32\u001b[0m \u001b[1;33m\u001b[0m\u001b[0m\n\u001b[0;32m     33\u001b[0m         \u001b[0mtotal_reward\u001b[0m\u001b[1;33m+=\u001b[0m\u001b[0mr\u001b[0m\u001b[1;33m\u001b[0m\u001b[0m\n",
      "\u001b[1;31mNameError\u001b[0m: global name 'train_step' is not defined"
     ]
    }
   ],
   "source": [
    "# for i in range(100):\n",
    "    \n",
    "rewards = [generate_session(num = j) for j in range(index.shape[0])] #generate new sessions\n",
    "\n",
    "epsilon*=0.95\n",
    "\n",
    "print (\"mean reward:%.3f\\tepsilon:%.5f\"%(np.mean(rewards),epsilon))\n",
    "\n",
    "if np.mean(rewards) > 300:\n",
    "    print (\"You Win!\")\n",
    "    break\n",
    "\n",
    "assert epsilon!=0, \"Please explore environment\""
   ]
  },
  {
   "cell_type": "code",
   "execution_count": 80,
   "metadata": {
    "collapsed": false
   },
   "outputs": [
    {
     "data": {
      "text/plain": [
       "array([[  59.,   65.,   64., ...,   66.,   61.,   67.],\n",
       "       [  74.,   60.,   52., ...,   54.,   69.,   68.],\n",
       "       [  45.,   64.,   38., ...,   58.,   57.,   29.],\n",
       "       ..., \n",
       "       [  73.,   75.,   93., ...,  142.,   88.,   60.],\n",
       "       [  43.,   59.,  107., ...,  119.,   74.,   57.],\n",
       "       [  17.,   32.,   38., ...,   35.,   50.,   45.]])"
      ]
     },
     "execution_count": 80,
     "metadata": {},
     "output_type": "execute_result"
    }
   ],
   "source": [
    "images[:,:,1]"
   ]
  },
  {
   "cell_type": "code",
   "execution_count": 182,
   "metadata": {
    "collapsed": false
   },
   "outputs": [],
   "source": [
    "tmp_im = images[:,:,1]"
   ]
  },
  {
   "cell_type": "code",
   "execution_count": 184,
   "metadata": {
    "collapsed": false
   },
   "outputs": [
    {
     "ename": "AttributeError",
     "evalue": "'list' object has no attribute 'shape'",
     "output_type": "error",
     "traceback": [
      "\u001b[1;31m---------------------------------------------------------------------------\u001b[0m",
      "\u001b[1;31mAttributeError\u001b[0m                            Traceback (most recent call last)",
      "\u001b[1;32m<ipython-input-184-f288beead2a9>\u001b[0m in \u001b[0;36m<module>\u001b[1;34m()\u001b[0m\n\u001b[1;32m----> 1\u001b[1;33m \u001b[1;33m[\u001b[0m\u001b[0mtmp_im\u001b[0m\u001b[1;33m]\u001b[0m\u001b[1;33m.\u001b[0m\u001b[0mshape\u001b[0m\u001b[1;33m\u001b[0m\u001b[0m\n\u001b[0m",
      "\u001b[1;31mAttributeError\u001b[0m: 'list' object has no attribute 'shape'"
     ]
    }
   ],
   "source": [
    "[tmp_im].shape"
   ]
  },
  {
   "cell_type": "code",
   "execution_count": 186,
   "metadata": {
    "collapsed": false
   },
   "outputs": [
    {
     "ename": "ValueError",
     "evalue": "dimension mismatch in args to gemm (80,80)x(6400,100)->(80,100)\nApply node that caused the error: GpuDot22(GpuFromHost.0, hidden_dense_layer.W)\nToposort index: 3\nInputs types: [CudaNdarrayType(float32, matrix), CudaNdarrayType(float32, matrix)]\nInputs shapes: [(80, 80), (6400, 100)]\nInputs strides: [(80, 1), (100, 1)]\nInputs values: ['not shown', 'not shown']\nOutputs clients: [[GpuElemwise{Composite{(i0 * ((i1 + i2) + Abs((i1 + i2))))}}[(0, 1)](CudaNdarrayConstant{[[ 0.5]]}, GpuDot22.0, GpuDimShuffle{x,0}.0)]]\n\nHINT: Re-running with most Theano optimization disabled could give you a back-trace of when this node was created. This can be done with by setting the Theano flag 'optimizer=fast_compile'. If that does not work, Theano optimizations can be disabled with 'optimizer=None'.\nHINT: Use the Theano flag 'exception_verbosity=high' for a debugprint and storage map footprint of this apply node.",
     "output_type": "error",
     "traceback": [
      "\u001b[1;31m---------------------------------------------------------------------------\u001b[0m",
      "\u001b[1;31mValueError\u001b[0m                                Traceback (most recent call last)",
      "\u001b[1;32m<ipython-input-186-27e28f6156e8>\u001b[0m in \u001b[0;36m<module>\u001b[1;34m()\u001b[0m\n\u001b[1;32m----> 1\u001b[1;33m \u001b[0mq_values\u001b[0m \u001b[1;33m=\u001b[0m \u001b[0mget_qvalues\u001b[0m\u001b[1;33m(\u001b[0m\u001b[0mtmp_im\u001b[0m\u001b[1;33m)\u001b[0m\u001b[1;33m\u001b[0m\u001b[0m\n\u001b[0m",
      "\u001b[1;32m/home/user/anaconda2/lib/python2.7/site-packages/theano/compile/function_module.pyc\u001b[0m in \u001b[0;36m__call__\u001b[1;34m(self, *args, **kwargs)\u001b[0m\n\u001b[0;32m    910\u001b[0m                     \u001b[0mnode\u001b[0m\u001b[1;33m=\u001b[0m\u001b[0mself\u001b[0m\u001b[1;33m.\u001b[0m\u001b[0mfn\u001b[0m\u001b[1;33m.\u001b[0m\u001b[0mnodes\u001b[0m\u001b[1;33m[\u001b[0m\u001b[0mself\u001b[0m\u001b[1;33m.\u001b[0m\u001b[0mfn\u001b[0m\u001b[1;33m.\u001b[0m\u001b[0mposition_of_error\u001b[0m\u001b[1;33m]\u001b[0m\u001b[1;33m,\u001b[0m\u001b[1;33m\u001b[0m\u001b[0m\n\u001b[0;32m    911\u001b[0m                     \u001b[0mthunk\u001b[0m\u001b[1;33m=\u001b[0m\u001b[0mthunk\u001b[0m\u001b[1;33m,\u001b[0m\u001b[1;33m\u001b[0m\u001b[0m\n\u001b[1;32m--> 912\u001b[1;33m                     storage_map=getattr(self.fn, 'storage_map', None))\n\u001b[0m\u001b[0;32m    913\u001b[0m             \u001b[1;32melse\u001b[0m\u001b[1;33m:\u001b[0m\u001b[1;33m\u001b[0m\u001b[0m\n\u001b[0;32m    914\u001b[0m                 \u001b[1;31m# old-style linkers raise their own exceptions\u001b[0m\u001b[1;33m\u001b[0m\u001b[1;33m\u001b[0m\u001b[0m\n",
      "\u001b[1;32m/home/user/anaconda2/lib/python2.7/site-packages/theano/gof/link.pyc\u001b[0m in \u001b[0;36mraise_with_op\u001b[1;34m(node, thunk, exc_info, storage_map)\u001b[0m\n\u001b[0;32m    312\u001b[0m         \u001b[1;31m# extra long error message in that case.\u001b[0m\u001b[1;33m\u001b[0m\u001b[1;33m\u001b[0m\u001b[0m\n\u001b[0;32m    313\u001b[0m         \u001b[1;32mpass\u001b[0m\u001b[1;33m\u001b[0m\u001b[0m\n\u001b[1;32m--> 314\u001b[1;33m     \u001b[0mreraise\u001b[0m\u001b[1;33m(\u001b[0m\u001b[0mexc_type\u001b[0m\u001b[1;33m,\u001b[0m \u001b[0mexc_value\u001b[0m\u001b[1;33m,\u001b[0m \u001b[0mexc_trace\u001b[0m\u001b[1;33m)\u001b[0m\u001b[1;33m\u001b[0m\u001b[0m\n\u001b[0m\u001b[0;32m    315\u001b[0m \u001b[1;33m\u001b[0m\u001b[0m\n\u001b[0;32m    316\u001b[0m \u001b[1;33m\u001b[0m\u001b[0m\n",
      "\u001b[1;32m/home/user/anaconda2/lib/python2.7/site-packages/theano/compile/function_module.pyc\u001b[0m in \u001b[0;36m__call__\u001b[1;34m(self, *args, **kwargs)\u001b[0m\n\u001b[0;32m    897\u001b[0m         \u001b[1;32mtry\u001b[0m\u001b[1;33m:\u001b[0m\u001b[1;33m\u001b[0m\u001b[0m\n\u001b[0;32m    898\u001b[0m             \u001b[0moutputs\u001b[0m \u001b[1;33m=\u001b[0m\u001b[0;31m\\\u001b[0m\u001b[1;33m\u001b[0m\u001b[0m\n\u001b[1;32m--> 899\u001b[1;33m                 \u001b[0mself\u001b[0m\u001b[1;33m.\u001b[0m\u001b[0mfn\u001b[0m\u001b[1;33m(\u001b[0m\u001b[1;33m)\u001b[0m \u001b[1;32mif\u001b[0m \u001b[0moutput_subset\u001b[0m \u001b[1;32mis\u001b[0m \u001b[0mNone\u001b[0m \u001b[1;32melse\u001b[0m\u001b[0;31m\\\u001b[0m\u001b[1;33m\u001b[0m\u001b[0m\n\u001b[0m\u001b[0;32m    900\u001b[0m                 \u001b[0mself\u001b[0m\u001b[1;33m.\u001b[0m\u001b[0mfn\u001b[0m\u001b[1;33m(\u001b[0m\u001b[0moutput_subset\u001b[0m\u001b[1;33m=\u001b[0m\u001b[0moutput_subset\u001b[0m\u001b[1;33m)\u001b[0m\u001b[1;33m\u001b[0m\u001b[0m\n\u001b[0;32m    901\u001b[0m         \u001b[1;32mexcept\u001b[0m \u001b[0mException\u001b[0m\u001b[1;33m:\u001b[0m\u001b[1;33m\u001b[0m\u001b[0m\n",
      "\u001b[1;31mValueError\u001b[0m: dimension mismatch in args to gemm (80,80)x(6400,100)->(80,100)\nApply node that caused the error: GpuDot22(GpuFromHost.0, hidden_dense_layer.W)\nToposort index: 3\nInputs types: [CudaNdarrayType(float32, matrix), CudaNdarrayType(float32, matrix)]\nInputs shapes: [(80, 80), (6400, 100)]\nInputs strides: [(80, 1), (100, 1)]\nInputs values: ['not shown', 'not shown']\nOutputs clients: [[GpuElemwise{Composite{(i0 * ((i1 + i2) + Abs((i1 + i2))))}}[(0, 1)](CudaNdarrayConstant{[[ 0.5]]}, GpuDot22.0, GpuDimShuffle{x,0}.0)]]\n\nHINT: Re-running with most Theano optimization disabled could give you a back-trace of when this node was created. This can be done with by setting the Theano flag 'optimizer=fast_compile'. If that does not work, Theano optimizations can be disabled with 'optimizer=None'.\nHINT: Use the Theano flag 'exception_verbosity=high' for a debugprint and storage map footprint of this apply node."
     ]
    }
   ],
   "source": [
    "q_values = get_qvalues(tmp_im)"
   ]
  },
  {
   "cell_type": "code",
   "execution_count": 122,
   "metadata": {
    "collapsed": false
   },
   "outputs": [],
   "source": [
    "img_1 = images.reshape(images.shape[2], 80, 80)\n",
    "\n",
    "img_1 = np.rot90(np.flip(np.swapaxes(images, 2,0),1),k=3)"
   ]
  },
  {
   "cell_type": "code",
   "execution_count": 125,
   "metadata": {
    "collapsed": false
   },
   "outputs": [
    {
     "data": {
      "text/plain": [
       "array([[ True,  True,  True, ...,  True,  True,  True],\n",
       "       [ True,  True,  True, ...,  True,  True,  True],\n",
       "       [ True,  True,  True, ...,  True,  True,  True],\n",
       "       ..., \n",
       "       [ True,  True,  True, ...,  True,  True,  True],\n",
       "       [ True,  True,  True, ...,  True,  True,  True],\n",
       "       [ True,  True,  True, ...,  True,  True,  True]], dtype=bool)"
      ]
     },
     "execution_count": 125,
     "metadata": {},
     "output_type": "execute_result"
    }
   ],
   "source": [
    "np.rot90(img_1[0,:,:],k=3) == images[:,:,0]"
   ]
  },
  {
   "cell_type": "code",
   "execution_count": 128,
   "metadata": {
    "collapsed": false
   },
   "outputs": [
    {
     "data": {
      "text/plain": [
       "<matplotlib.image.AxesImage at 0x7f3290beb6d0>"
      ]
     },
     "execution_count": 128,
     "metadata": {},
     "output_type": "execute_result"
    },
    {
     "data": {
      "image/png": "[encoded data removed]",
      "text/plain": [
       "<matplotlib.figure.Figure at 0x7f3290cb71d0>"
      ]
     },
     "metadata": {},
     "output_type": "display_data"
    }
   ],
   "source": [
    "plt.imshow(np.rot90(img_1[14,:,:],k=3))"
   ]
  },
  {
   "cell_type": "code",
   "execution_count": 134,
   "metadata": {
    "collapsed": false
   },
   "outputs": [
    {
     "data": {
      "text/plain": [
       "<matplotlib.image.AxesImage at 0x7f3290a70e50>"
      ]
     },
     "execution_count": 134,
     "metadata": {},
     "output_type": "execute_result"
    },
    {
     "data": {
      "image/png": "[encoded data removed]",
      "text/plain": [
       "<matplotlib.figure.Figure at 0x7f3290af79d0>"
      ]
     },
     "metadata": {},
     "output_type": "display_data"
    }
   ],
   "source": [
    "plt.imshow(images[:,14,:])"
   ]
  },
  {
   "cell_type": "code",
   "execution_count": 131,
   "metadata": {
    "collapsed": true
   },
   "outputs": [],
   "source": [
    "images = np.rot90(np.flip(np.swapaxes(np.swapaxes(images, 2,0), 0,1),1),k=3)"
   ]
  },
  {
   "cell_type": "code",
   "execution_count": 132,
   "metadata": {
    "collapsed": false
   },
   "outputs": [
    {
     "data": {
      "text/plain": [
       "(80, 3509, 80)"
      ]
     },
     "execution_count": 132,
     "metadata": {},
     "output_type": "execute_result"
    }
   ],
   "source": [
    "images.shape"
   ]
  },
  {
   "cell_type": "code",
   "execution_count": null,
   "metadata": {
    "collapsed": true
   },
   "outputs": [],
   "source": []
  }
 ],
 "metadata": {
  "kernelspec": {
   "display_name": "Python 2",
   "language": "python",
   "name": "python2"
  },
  "language_info": {
   "codemirror_mode": {
    "name": "ipython",
    "version": 2
   },
   "file_extension": ".py",
   "mimetype": "text/x-python",
   "name": "python",
   "nbconvert_exporter": "python",
   "pygments_lexer": "ipython2",
   "version": "2.7.12"
  }
 },
 "nbformat": 4,
 "nbformat_minor": 0
}
