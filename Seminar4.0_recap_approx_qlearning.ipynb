{
 "cells": [
  {
   "cell_type": "markdown",
   "metadata": {},
   "source": [
    "# Approximate q-learning\n",
    "\n",
    "In this notebook you will teach a lasagne neural network to do Q-learning."
   ]
  },
  {
   "cell_type": "markdown",
   "metadata": {},
   "source": [
    "__Frameworks__ - we'll accept this homework in any deep learning framework. For example, it translates to TensorFlow almost line-to-line. However, we recommend you to stick to theano/lasagne unless you're certain about your skills in the framework of your choice."
   ]
  },
  {
   "cell_type": "code",
   "execution_count": 1,
   "metadata": {
    "collapsed": false
   },
   "outputs": [
    {
     "name": "stdout",
     "output_type": "stream",
     "text": [
      "env: THEANO_FLAGS='floatX=float32'\n"
     ]
    }
   ],
   "source": [
    "%env THEANO_FLAGS='floatX=float32'\n",
    "import os\n",
    "if type(os.environ.get(\"DISPLAY\")) is not str or len(os.environ.get(\"DISPLAY\"))==0:\n",
    "    !bash ../xvfb start\n",
    "    %env DISPLAY=:1"
   ]
  },
  {
   "cell_type": "code",
   "execution_count": 2,
   "metadata": {
    "collapsed": false
   },
   "outputs": [],
   "source": [
    "import gym\n",
    "import numpy as np, pandas as pd\n",
    "import matplotlib.pyplot as plt\n",
    "%matplotlib inline"
   ]
  },
  {
   "cell_type": "code",
   "execution_count": 3,
   "metadata": {
    "collapsed": false,
    "scrolled": false
   },
   "outputs": [
    {
     "name": "stderr",
     "output_type": "stream",
     "text": [
      "[2017-03-19 16:00:47,615] Making new env: CartPole-v0\n"
     ]
    },
    {
     "data": {
      "text/plain": [
       "<matplotlib.image.AxesImage at 0x7fdcb2247048>"
      ]
     },
     "execution_count": 3,
     "metadata": {},
     "output_type": "execute_result"
    },
    {
     "data": {
      "image/png": "[encoded data removed]",
      "text/plain": [
       "<matplotlib.figure.Figure at 0x7fdcbd3adb00>"
      ]
     },
     "metadata": {},
     "output_type": "display_data"
    }
   ],
   "source": [
    "env = gym.make(\"CartPole-v0\")\n",
    "env.reset()\n",
    "n_actions = env.action_space.n\n",
    "state_dim = env.observation_space.shape\n",
    "\n",
    "plt.imshow(env.render(\"rgb_array\"))"
   ]
  },
  {
   "cell_type": "markdown",
   "metadata": {},
   "source": [
    "# Approximate (deep) Q-learning: building the network\n",
    "\n",
    "In this section we will build and train naive Q-learning with theano/lasagne"
   ]
  },
  {
   "cell_type": "markdown",
   "metadata": {},
   "source": [
    "First step is initializing input variables"
   ]
  },
  {
   "cell_type": "code",
   "execution_count": 4,
   "metadata": {
    "collapsed": false
   },
   "outputs": [],
   "source": [
    "import theano\n",
    "import theano.tensor as T\n",
    "\n",
    "#create input variables. We'll support multiple states at once\n",
    "\n",
    "\n",
    "current_states = T.matrix(\"states[batch,units]\")\n",
    "actions = T.ivector(\"action_ids[batch]\")\n",
    "rewards = T.vector(\"rewards[batch]\")\n",
    "next_states = T.matrix(\"next states[batch,units]\")\n",
    "is_end = T.ivector(\"vector[batch] where 1 means that session just ended\")"
   ]
  },
  {
   "cell_type": "code",
   "execution_count": 5,
   "metadata": {
    "collapsed": false
   },
   "outputs": [
    {
     "name": "stderr",
     "output_type": "stream",
     "text": [
      "/home/anna/anaconda3/lib/python3.6/site-packages/theano/tensor/signal/downsample.py:6: UserWarning: downsample module has been moved to the theano.tensor.signal.pool module.\n",
      "  \"downsample module has been moved to the theano.tensor.signal.pool module.\")\n"
     ]
    }
   ],
   "source": [
    "import lasagne\n",
    "from lasagne.layers import *\n",
    "\n",
    "#input layer\n",
    "l_states = InputLayer((None,)+state_dim)\n",
    "\n",
    "\n",
    "dense_1 = DenseLayer(l_states,num_units=42,\n",
    "                                   name = \"hidden_dense_layer\")\n",
    "\n",
    "\n",
    "#output layer\n",
    "l_qvalues = DenseLayer(dense_1,num_units=n_actions,nonlinearity=None)"
   ]
  },
  {
   "cell_type": "markdown",
   "metadata": {},
   "source": [
    "#### Predicting Q-values for `current_states`"
   ]
  },
  {
   "cell_type": "code",
   "execution_count": 6,
   "metadata": {
    "collapsed": false
   },
   "outputs": [],
   "source": [
    "#get q-values for ALL actions in current_states\n",
    "predicted_qvalues = get_output(l_qvalues,{l_states:current_states})"
   ]
  },
  {
   "cell_type": "code",
   "execution_count": 7,
   "metadata": {
    "collapsed": false
   },
   "outputs": [],
   "source": [
    "#compiling agent's \"GetQValues\" function\n",
    "get_qvalues = theano.function([current_states], predicted_qvalues,\n",
    "    allow_input_downcast=True)"
   ]
  },
  {
   "cell_type": "code",
   "execution_count": 8,
   "metadata": {
    "collapsed": true
   },
   "outputs": [],
   "source": [
    "#select q-values for chosen actions\n",
    "predicted_qvalues_for_actions = predicted_qvalues[T.arange(actions.shape[0]),actions]"
   ]
  },
  {
   "cell_type": "markdown",
   "metadata": {},
   "source": [
    "#### Loss function and `update`\n",
    "Here we write a function similar to `agent.update`."
   ]
  },
  {
   "cell_type": "code",
   "execution_count": 9,
   "metadata": {
    "collapsed": true
   },
   "outputs": [],
   "source": [
    "#predict q-values for next states\n",
    "predicted_next_qvalues = get_output(l_qvalues,{l_states:next_states})\n",
    "\n",
    "\n",
    "#Computing target q-values under \n",
    "gamma = 0.99\n",
    "target_qvalues_for_actions = rewards + gamma* predicted_next_qvalues.max(axis= 1)\n",
    "    \n",
    "#zero-out q-values at the end\n",
    "target_qvalues_for_actions = (1-is_end)*target_qvalues_for_actions\n",
    "\n",
    "#don't compute gradient over target q-values (consider constant)\n",
    "target_qvalues_for_actions = theano.gradient.disconnected_grad(target_qvalues_for_actions)"
   ]
  },
  {
   "cell_type": "code",
   "execution_count": 10,
   "metadata": {
    "collapsed": false
   },
   "outputs": [],
   "source": [
    "\n",
    "#mean squared error loss function\n",
    "loss = T.mean((predicted_qvalues_for_actions - target_qvalues_for_actions) ** 2)\n"
   ]
  },
  {
   "cell_type": "code",
   "execution_count": 11,
   "metadata": {
    "collapsed": false
   },
   "outputs": [],
   "source": [
    "#all network weights\n",
    "all_weights = get_all_params(l_qvalues,trainable=True)\n",
    "\n",
    "#network updates. Note the small learning rate (for stability)\n",
    "updates = lasagne.updates.sgd(loss,all_weights,learning_rate=1e-4)"
   ]
  },
  {
   "cell_type": "code",
   "execution_count": 12,
   "metadata": {
    "collapsed": false
   },
   "outputs": [],
   "source": [
    "#Training function that resembles agent.update(state,action,reward,next_state) \n",
    "#with 1 more argument meaning is_end\n",
    "train_step = theano.function([current_states,actions,rewards,next_states,is_end],\n",
    "    allow_input_downcast=True,\n",
    "                             updates=updates)"
   ]
  },
  {
   "cell_type": "markdown",
   "metadata": {},
   "source": [
    "### Playing the game"
   ]
  },
  {
   "cell_type": "code",
   "execution_count": 15,
   "metadata": {
    "collapsed": false
   },
   "outputs": [],
   "source": [
    "epsilon = 0.25 #initial epsilon\n",
    "\n",
    "def generate_session(t_max=1000):\n",
    "    \"\"\"play env with approximate q-learning agent and train it at the same time\"\"\"\n",
    "    \n",
    "    total_reward = 0\n",
    "    s = env.reset()\n",
    "    \n",
    "    for t in range(t_max):\n",
    "        \n",
    "        #get action q-values from the network\n",
    "        q_values = get_qvalues([s])[0] \n",
    "        \n",
    "        if( np.random.random() < epsilon):\n",
    "            a = np.random.choice(n_actions)\n",
    "        else:\n",
    "            a = np.argmax(q_values)\n",
    "        \n",
    "#         a = <sample action with epsilon-greedy strategy>\n",
    "        \n",
    "        new_s,r,done,info = env.step(a)\n",
    "        \n",
    "        #train agent one step. Note that we use one-element arrays instead of scalars \n",
    "        #because that's what function accepts.\n",
    "        train_step([s],[a],[r],[new_s],[done])\n",
    "        \n",
    "        total_reward+=r\n",
    "        \n",
    "        s = new_s\n",
    "        if done: break\n",
    "            \n",
    "    return total_reward\n",
    "        "
   ]
  },
  {
   "cell_type": "code",
   "execution_count": 18,
   "metadata": {
    "collapsed": false
   },
   "outputs": [
    {
     "name": "stdout",
     "output_type": "stream",
     "text": [
      "mean reward:177.500\tepsilon:0.00141\n",
      "mean reward:185.020\tepsilon:0.00134\n",
      "mean reward:194.370\tepsilon:0.00127\n",
      "mean reward:124.720\tepsilon:0.00121\n",
      "mean reward:116.950\tepsilon:0.00115\n",
      "mean reward:116.660\tepsilon:0.00109\n",
      "mean reward:109.970\tepsilon:0.00103\n",
      "mean reward:142.430\tepsilon:0.00098\n",
      "mean reward:126.940\tepsilon:0.00093\n",
      "mean reward:125.100\tepsilon:0.00089\n",
      "mean reward:118.440\tepsilon:0.00084\n",
      "mean reward:117.700\tepsilon:0.00080\n",
      "mean reward:115.180\tepsilon:0.00076\n",
      "mean reward:112.430\tepsilon:0.00072\n",
      "mean reward:108.860\tepsilon:0.00069\n",
      "mean reward:111.300\tepsilon:0.00065\n",
      "mean reward:108.330\tepsilon:0.00062\n",
      "mean reward:135.340\tepsilon:0.00059\n",
      "mean reward:145.590\tepsilon:0.00056\n",
      "mean reward:142.540\tepsilon:0.00053\n",
      "mean reward:142.660\tepsilon:0.00050\n",
      "mean reward:151.380\tepsilon:0.00048\n",
      "mean reward:164.120\tepsilon:0.00045\n",
      "mean reward:189.960\tepsilon:0.00043\n",
      "mean reward:177.840\tepsilon:0.00041\n",
      "mean reward:173.110\tepsilon:0.00039\n",
      "mean reward:177.510\tepsilon:0.00037\n",
      "mean reward:160.510\tepsilon:0.00035\n",
      "mean reward:122.250\tepsilon:0.00033\n",
      "mean reward:106.850\tepsilon:0.00032\n",
      "mean reward:94.830\tepsilon:0.00030\n",
      "mean reward:86.980\tepsilon:0.00029\n",
      "mean reward:83.050\tepsilon:0.00027\n",
      "mean reward:77.310\tepsilon:0.00026\n",
      "mean reward:74.640\tepsilon:0.00025\n",
      "mean reward:74.680\tepsilon:0.00023\n",
      "mean reward:73.400\tepsilon:0.00022\n",
      "mean reward:73.550\tepsilon:0.00021\n",
      "mean reward:73.230\tepsilon:0.00020\n",
      "mean reward:74.230\tepsilon:0.00019\n",
      "mean reward:74.910\tepsilon:0.00018\n",
      "mean reward:75.610\tepsilon:0.00017\n",
      "mean reward:76.380\tepsilon:0.00016\n",
      "mean reward:76.740\tepsilon:0.00015\n",
      "mean reward:76.910\tepsilon:0.00015\n",
      "mean reward:78.770\tepsilon:0.00014\n",
      "mean reward:77.840\tepsilon:0.00013\n",
      "mean reward:79.330\tepsilon:0.00013\n",
      "mean reward:81.110\tepsilon:0.00012\n",
      "mean reward:80.580\tepsilon:0.00011\n",
      "mean reward:82.820\tepsilon:0.00011\n",
      "mean reward:81.920\tepsilon:0.00010\n",
      "mean reward:84.930\tepsilon:0.00010\n",
      "mean reward:85.020\tepsilon:0.00009\n",
      "mean reward:86.190\tepsilon:0.00009\n",
      "mean reward:86.500\tepsilon:0.00008\n",
      "mean reward:89.040\tepsilon:0.00008\n",
      "mean reward:87.790\tepsilon:0.00008\n",
      "mean reward:89.260\tepsilon:0.00007\n",
      "mean reward:91.120\tepsilon:0.00007\n",
      "mean reward:93.050\tepsilon:0.00006\n",
      "mean reward:93.630\tepsilon:0.00006\n",
      "mean reward:95.740\tepsilon:0.00006\n",
      "mean reward:101.770\tepsilon:0.00006\n",
      "mean reward:102.330\tepsilon:0.00005\n",
      "mean reward:116.700\tepsilon:0.00005\n",
      "mean reward:138.980\tepsilon:0.00005\n",
      "mean reward:162.950\tepsilon:0.00005\n",
      "mean reward:86.650\tepsilon:0.00004\n",
      "mean reward:146.770\tepsilon:0.00004\n",
      "mean reward:163.330\tepsilon:0.00004\n",
      "mean reward:182.120\tepsilon:0.00004\n",
      "mean reward:187.030\tepsilon:0.00004\n",
      "mean reward:116.630\tepsilon:0.00003\n",
      "mean reward:148.750\tepsilon:0.00003\n",
      "mean reward:176.030\tepsilon:0.00003\n",
      "mean reward:166.210\tepsilon:0.00003\n",
      "mean reward:116.030\tepsilon:0.00003\n",
      "mean reward:106.980\tepsilon:0.00003\n",
      "mean reward:90.380\tepsilon:0.00002\n",
      "mean reward:98.990\tepsilon:0.00002\n",
      "mean reward:102.510\tepsilon:0.00002\n",
      "mean reward:100.300\tepsilon:0.00002\n",
      "mean reward:101.280\tepsilon:0.00002\n",
      "mean reward:101.070\tepsilon:0.00002\n",
      "mean reward:101.050\tepsilon:0.00002\n",
      "mean reward:99.540\tepsilon:0.00002\n",
      "mean reward:96.840\tepsilon:0.00002\n",
      "mean reward:97.840\tepsilon:0.00002\n",
      "mean reward:101.000\tepsilon:0.00001\n",
      "mean reward:104.570\tepsilon:0.00001\n",
      "mean reward:109.090\tepsilon:0.00001\n",
      "mean reward:109.840\tepsilon:0.00001\n",
      "mean reward:112.910\tepsilon:0.00001\n",
      "mean reward:117.080\tepsilon:0.00001\n",
      "mean reward:116.210\tepsilon:0.00001\n",
      "mean reward:118.570\tepsilon:0.00001\n",
      "mean reward:116.340\tepsilon:0.00001\n",
      "mean reward:109.030\tepsilon:0.00001\n",
      "mean reward:116.690\tepsilon:0.00001\n"
     ]
    }
   ],
   "source": [
    "for i in range(100):\n",
    "    \n",
    "    rewards = [generate_session() for j in range(100)] #generate new sessions\n",
    "    \n",
    "    epsilon*=0.95\n",
    "    \n",
    "    print (\"mean reward:%.3f\\tepsilon:%.5f\"%(np.mean(rewards),epsilon))\n",
    "\n",
    "    if np.mean(rewards) > 300:\n",
    "        print (\"You Win!\")\n",
    "        break\n",
    "        \n",
    "    assert epsilon!=0, \"Please explore environment\""
   ]
  },
  {
   "cell_type": "markdown",
   "metadata": {},
   "source": [
    "### Video"
   ]
  },
  {
   "cell_type": "code",
   "execution_count": null,
   "metadata": {
    "collapsed": true
   },
   "outputs": [],
   "source": [
    "epsilon=0 #Don't forget to reset epsilon back to initial value if you want to go on training"
   ]
  },
  {
   "cell_type": "code",
   "execution_count": null,
   "metadata": {
    "collapsed": false
   },
   "outputs": [],
   "source": [
    "#record sessions\n",
    "import gym.wrappers\n",
    "env = gym.wrappers.Monitor(env,directory=\"videos\",force=True)\n",
    "sessions = [generate_session() for _ in range(100)]\n",
    "env.close()\n",
    "#unwrap \n",
    "env = env.env.env\n",
    "#upload to gym\n",
    "#gym.upload(\"./videos/\",api_key=\"<your_api_key>\") #you'll need me later\n",
    "\n",
    "#Warning! If you keep seeing error that reads something like\"DoubleWrapError\",\n",
    "#run env=gym.make(\"CartPole-v0\");env.reset();"
   ]
  },
  {
   "cell_type": "code",
   "execution_count": null,
   "metadata": {
    "collapsed": false
   },
   "outputs": [],
   "source": [
    "#show video\n",
    "from IPython.display import HTML\n",
    "import os\n",
    "\n",
    "video_names = list(filter(lambda s:s.endswith(\".mp4\"),os.listdir(\"./videos/\")))\n",
    "\n",
    "HTML(\"\"\"\n",
    "<video width=\"640\" height=\"480\" controls>\n",
    "  <source src=\"{}\" type=\"video/mp4\">\n",
    "</video>\n",
    "\"\"\".format(\"./videos/\"+video_names[-1])) #this may or may not be _last_ video. Try other indices"
   ]
  },
  {
   "cell_type": "code",
   "execution_count": null,
   "metadata": {
    "collapsed": true
   },
   "outputs": [],
   "source": []
  }
 ],
 "metadata": {
  "kernelspec": {
   "display_name": "Python 3",
   "language": "python",
   "name": "python3"
  },
  "language_info": {
   "codemirror_mode": {
    "name": "ipython",
    "version": 3
   },
   "file_extension": ".py",
   "mimetype": "text/x-python",
   "name": "python",
   "nbconvert_exporter": "python",
   "pygments_lexer": "ipython3",
   "version": "3.6.0"
  }
 },
 "nbformat": 4,
 "nbformat_minor": 0
}
